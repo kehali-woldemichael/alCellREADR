{
 "cells": [
  {
   "cell_type": "code",
   "execution_count": 1,
   "id": "807d3a70-8518-42ca-a211-74a5b0974344",
   "metadata": {
    "execution": {
     "iopub.execute_input": "2022-07-26T20:48:27.577341Z",
     "iopub.status.busy": "2022-07-26T20:48:27.576738Z",
     "iopub.status.idle": "2022-07-26T20:48:27.821763Z",
     "shell.execute_reply": "2022-07-26T20:48:27.819015Z",
     "shell.execute_reply.started": "2022-07-26T20:48:27.577242Z"
    },
    "tags": []
   },
   "outputs": [],
   "source": [
    "import sys\n",
    "import os\n",
    "from itertools import islice\n",
    "import logging\n",
    "\n",
    "import pandas as pd\n",
    "import numpy as np\n",
    "from collections import OrderedDict"
   ]
  },
  {
   "cell_type": "code",
   "execution_count": 2,
   "id": "2ed2c9ef-dae8-4794-967c-9b04830d0e6a",
   "metadata": {
    "execution": {
     "iopub.execute_input": "2022-07-26T20:48:27.844663Z",
     "iopub.status.busy": "2022-07-26T20:48:27.829887Z",
     "iopub.status.idle": "2022-07-26T20:48:27.897058Z",
     "shell.execute_reply": "2022-07-26T20:48:27.896698Z",
     "shell.execute_reply.started": "2022-07-26T20:48:27.844600Z"
    },
    "tags": []
   },
   "outputs": [],
   "source": [
    "from Bio import SeqIO\n",
    "from Bio.Seq import Seq \n",
    "from Bio.SeqRecord import SeqRecord"
   ]
  },
  {
   "cell_type": "code",
   "execution_count": 3,
   "id": "44310d4a-58e5-4b16-bd3c-d608745170c3",
   "metadata": {
    "execution": {
     "iopub.execute_input": "2022-07-26T20:48:27.897690Z",
     "iopub.status.busy": "2022-07-26T20:48:27.897579Z",
     "iopub.status.idle": "2022-07-26T20:48:27.900622Z",
     "shell.execute_reply": "2022-07-26T20:48:27.900366Z",
     "shell.execute_reply.started": "2022-07-26T20:48:27.897680Z"
    },
    "tags": []
   },
   "outputs": [],
   "source": [
    "sys.path.append('/Users/kbw29/Dropbox/Research/Neurobiology_PhD/Huang/Projects/CellReadR/Code/alCellREADR')\n",
    "from py_modules import *"
   ]
  },
  {
   "cell_type": "code",
   "execution_count": 4,
   "id": "44cafe60-21eb-4fac-9c1d-1116a696d01d",
   "metadata": {
    "execution": {
     "iopub.execute_input": "2022-07-26T20:48:27.901803Z",
     "iopub.status.busy": "2022-07-26T20:48:27.901688Z",
     "iopub.status.idle": "2022-07-26T20:48:27.911417Z",
     "shell.execute_reply": "2022-07-26T20:48:27.910962Z",
     "shell.execute_reply.started": "2022-07-26T20:48:27.901795Z"
    }
   },
   "outputs": [],
   "source": [
    "utility.clear_outputs()"
   ]
  },
  {
   "cell_type": "code",
   "execution_count": null,
   "id": "4f2bb08b-4522-496c-bcee-8e059aaebe89",
   "metadata": {},
   "outputs": [],
   "source": []
  },
  {
   "cell_type": "code",
   "execution_count": null,
   "id": "dfc51e6b-ad5b-41c1-8e77-b4bbf52280d7",
   "metadata": {},
   "outputs": [],
   "source": [
    "def generate_linear_sesRNAs(targetSeq): "
   ]
  },
  {
   "cell_type": "code",
   "execution_count": null,
   "id": "ca79367a-4daf-40fa-89a5-a73f1d6763c6",
   "metadata": {},
   "outputs": [],
   "source": [
    "def generate_split_sesRNAs():"
   ]
  },
  {
   "cell_type": "code",
   "execution_count": null,
   "id": "f41508c9-d5f9-425e-92f8-fe39564eb4c6",
   "metadata": {
    "tags": []
   },
   "outputs": [],
   "source": [
    "def generate_cisSE_sesRNAs(targetSeq):"
   ]
  },
  {
   "cell_type": "code",
   "execution_count": null,
   "id": "3a2908e8-21e5-4ec2-8c23-d067356374e6",
   "metadata": {},
   "outputs": [],
   "source": [
    "def check_chunks(templa"
   ]
  },
  {
   "cell_type": "code",
   "execution_count": null,
   "id": "2f625144-0083-4cb9-a42f-70a10e9a5080",
   "metadata": {},
   "outputs": [],
   "source": []
  },
  {
   "cell_type": "code",
   "execution_count": null,
   "id": "1254bec0-5496-415a-adf2-68de44373689",
   "metadata": {},
   "outputs": [],
   "source": []
  },
  {
   "cell_type": "code",
   "execution_count": 5,
   "id": "60c80ca7-5110-47c4-a4c2-3e2d851d41de",
   "metadata": {
    "execution": {
     "iopub.execute_input": "2022-07-26T20:48:27.912025Z",
     "iopub.status.busy": "2022-07-26T20:48:27.911933Z",
     "iopub.status.idle": "2022-07-26T20:48:27.914371Z",
     "shell.execute_reply": "2022-07-26T20:48:27.913952Z",
     "shell.execute_reply.started": "2022-07-26T20:48:27.912016Z"
    },
    "tags": []
   },
   "outputs": [],
   "source": [
    "tdT_Seq = \"atggtgagcaagggcgaggaggtcatcaaagagttcatgcgcttcaaggtgcgcatggagggctccatgaacggccacgagttcgagatcgagggcgagggcgagggccgcccctacgagggcacccagaccgccaagctgaaggtgaccaagggcggccccctgcccttcgcctgggacatcctgtccccccagttcatgtacggctccaaggcgtacgtgaagcaccccgccgacatccccgattacaagaagctgtccttccccgagggcttcaagtgggagcgcgtgatgaacttcgaggacggcggtctggtgaccgtgacccaggactcctccctgcaggacggcacgctgatctacaaggtgaagatgcgcggcaccaacttcccccccgacggccccgtaatgcagaagaagaccatgggctgggaggcctccaccgagcgcctgtacccccgcgacggcgtgctgaagggcgagatccaccaggccctgaagctgaaggacggcggccactacctggtggagttcaagaccatctacatggccaagaagcccgtgcaactgcccggctactactacgtggacaccaagctggacatcacctcccacaacgaggactacaccatcgtggaacagtacgagcgctccgagggccgccaccacctgttcctggggcatggcaccggcagcaccggcagcggcagctccggcaccgcctcctccgaggacaacaacatggccgtcatcaaagagttcatgcgcttcaaggtgcgcatggagggctccatgaacggccacgagttcgagatcgagggcgagggcgagggccgcccctacgagggcacccagaccgccaagctgaaggtgaccaagggcggccccctgcccttcgcctgggacatcctgtccccccagttcatgtacggctccaaggcgtacgtgaagcaccccgccgacatccccgattacaagaagctgtccttccccgagggcttcaagtgggagcgcgtgatgaacttcgaggacggcggtctggtgaccgtgacccaggactcctccctgcaggacggcacgctgatctacaaggtgaagatgcgcggcaccaacttcccccccgacggccccgtaatgcagaagaagaccatgggctgggaggcctccaccgagcgcctgtacccccgcgacggcgtgctgaagggcgagatccaccaggccctgaagctgaaggacggcggccactacctggtggagttcaagaccatctacatggccaagaagcccgtgcaactgcccggctactactacgtggacaccaagctggacatcacctcccacaacgaggactacaccatcgtggaacagtacgagcgctccgagggccgccaccacctgttcctgtacggcatggacgagctgtacaagtaa\""
   ]
  },
  {
   "cell_type": "code",
   "execution_count": 6,
   "id": "a10a745c-1459-418e-9c3f-e7838003751a",
   "metadata": {
    "execution": {
     "iopub.execute_input": "2022-07-26T20:48:28.032158Z",
     "iopub.status.busy": "2022-07-26T20:48:28.031717Z",
     "iopub.status.idle": "2022-07-26T20:48:28.034833Z",
     "shell.execute_reply": "2022-07-26T20:48:28.034185Z",
     "shell.execute_reply.started": "2022-07-26T20:48:28.032144Z"
    },
    "tags": []
   },
   "outputs": [],
   "source": [
    "# RIblast requires sequences in upper case \n",
    "targetSeq = Seq(tdT_Seq.upper())\n",
    "templateSeq = targetSeq.reverse_complement()"
   ]
  },
  {
   "cell_type": "code",
   "execution_count": 7,
   "id": "95297c2d-366c-4d5d-82c8-7b2869fa4d58",
   "metadata": {
    "execution": {
     "iopub.execute_input": "2022-07-26T20:48:28.525247Z",
     "iopub.status.busy": "2022-07-26T20:48:28.524664Z",
     "iopub.status.idle": "2022-07-26T20:48:28.535903Z",
     "shell.execute_reply": "2022-07-26T20:48:28.534526Z",
     "shell.execute_reply.started": "2022-07-26T20:48:28.525216Z"
    },
    "tags": []
   },
   "outputs": [],
   "source": [
    "# generator function \n",
    "def sliceSeq(seq, K):\n",
    "    itr = iter(seq)\n",
    "    res = tuple(islice(itr, K))\n",
    "    if len(res) == K:\n",
    "        yield res    \n",
    "    for ele in itr:\n",
    "        res = res[1:] + (ele,)\n",
    "        yield res"
   ]
  },
  {
   "cell_type": "code",
   "execution_count": 75,
   "id": "e633391f-8da0-489e-aecc-e1e3b03111dc",
   "metadata": {
    "execution": {
     "iopub.execute_input": "2022-07-26T22:10:21.701324Z",
     "iopub.status.busy": "2022-07-26T22:10:21.700692Z",
     "iopub.status.idle": "2022-07-26T22:10:21.714319Z",
     "shell.execute_reply": "2022-07-26T22:10:21.712921Z",
     "shell.execute_reply.started": "2022-07-26T22:10:21.701293Z"
    },
    "tags": []
   },
   "outputs": [],
   "source": [
    "def screen_SD(template, length):\n",
    "    # Add a's as padding until divisible by 21\n",
    "    while (len(template) % length) != 0: template = template + \"a\"\n",
    "    # calling generator function \n",
    "    res = [Seq(\"\".join(ele)) for ele in sliceSeq(template, length)] \n",
    "    # Filtered for stop and start codons ... and containing \n",
    "    # Removes ducplicates\n",
    "    return list(OrderedDict.fromkeys([chunk for chunk in res if (len(chunk.translate(to_stop = True)) == (length/3)) & (\"M\" not in chunk.translate(to_stop = True)) & (\"W\" in chunk.translate())]))"
   ]
  },
  {
   "cell_type": "code",
   "execution_count": 76,
   "id": "d2bbe132-db14-407a-b2a8-4f9b39dcea75",
   "metadata": {
    "execution": {
     "iopub.execute_input": "2022-07-26T22:10:22.084908Z",
     "iopub.status.busy": "2022-07-26T22:10:22.084355Z",
     "iopub.status.idle": "2022-07-26T22:10:22.150177Z",
     "shell.execute_reply": "2022-07-26T22:10:22.149600Z",
     "shell.execute_reply.started": "2022-07-26T22:10:22.084878Z"
    },
    "tags": []
   },
   "outputs": [
    {
     "data": {
      "text/plain": [
       "93"
      ]
     },
     "execution_count": 76,
     "metadata": {},
     "output_type": "execute_result"
    }
   ],
   "source": [
    "# Removes duplicates ... mostly to deal with repeats \n",
    "sd_filtered = screen_SD(templateSeq, length = 21)\n",
    "len(sd_filtered)"
   ]
  },
  {
   "cell_type": "code",
   "execution_count": 77,
   "id": "bd04ff5d-35ff-4e74-ab91-7c123526dd67",
   "metadata": {
    "execution": {
     "iopub.execute_input": "2022-07-26T22:10:34.011296Z",
     "iopub.status.busy": "2022-07-26T22:10:34.008048Z",
     "iopub.status.idle": "2022-07-26T22:10:39.176113Z",
     "shell.execute_reply": "2022-07-26T22:10:39.175829Z",
     "shell.execute_reply.started": "2022-07-26T22:10:34.011223Z"
    },
    "tags": []
   },
   "outputs": [],
   "source": [
    "useful_RIblast = higher_order.output_RIblast(targetSeq, sd_filtered)"
   ]
  },
  {
   "cell_type": "code",
   "execution_count": 79,
   "id": "0262d44e-597a-4dc5-9d51-879a736e0b2f",
   "metadata": {
    "execution": {
     "iopub.execute_input": "2022-07-26T22:14:00.936315Z",
     "iopub.status.busy": "2022-07-26T22:14:00.935880Z",
     "iopub.status.idle": "2022-07-26T22:14:00.964925Z",
     "shell.execute_reply": "2022-07-26T22:14:00.964469Z",
     "shell.execute_reply.started": "2022-07-26T22:14:00.936290Z"
    },
    "tags": []
   },
   "outputs": [
    {
     "data": {
      "text/html": [
       "<div>\n",
       "<style scoped>\n",
       "    .dataframe tbody tr th:only-of-type {\n",
       "        vertical-align: middle;\n",
       "    }\n",
       "\n",
       "    .dataframe tbody tr th {\n",
       "        vertical-align: top;\n",
       "    }\n",
       "\n",
       "    .dataframe thead th {\n",
       "        text-align: right;\n",
       "    }\n",
       "</style>\n",
       "<table border=\"1\" class=\"dataframe\">\n",
       "  <thead>\n",
       "    <tr style=\"text-align: right;\">\n",
       "      <th></th>\n",
       "      <th>Sequence</th>\n",
       "      <th>AccessibilityEnergy_1</th>\n",
       "      <th>HybridizationEnergy_1</th>\n",
       "      <th>InteractionEnergy_1</th>\n",
       "      <th>BasePair_1</th>\n",
       "      <th>AccessibilityEnergy_2</th>\n",
       "      <th>HybridizationEnergy_2</th>\n",
       "      <th>InteractionEnergy_2</th>\n",
       "      <th>BasePair_2</th>\n",
       "    </tr>\n",
       "  </thead>\n",
       "  <tbody>\n",
       "    <tr>\n",
       "      <th>43</th>\n",
       "      <td>AGCCCATGGTCTTCTTCTGCA</td>\n",
       "      <td>7.70115</td>\n",
       "      <td>-32.64</td>\n",
       "      <td>-24.9389</td>\n",
       "      <td>(0-20:1122-1102)</td>\n",
       "      <td>7.703790</td>\n",
       "      <td>-32.64</td>\n",
       "      <td>-24.93620</td>\n",
       "      <td>(0-20:396-376)</td>\n",
       "    </tr>\n",
       "    <tr>\n",
       "      <th>41</th>\n",
       "      <td>CCTCCCAGCCCATGGTCTTCT</td>\n",
       "      <td>7.77234</td>\n",
       "      <td>-32.55</td>\n",
       "      <td>-24.7777</td>\n",
       "      <td>(0-20:1128-1108)</td>\n",
       "      <td>7.774490</td>\n",
       "      <td>-32.55</td>\n",
       "      <td>-24.77550</td>\n",
       "      <td>(0-20:402-382)</td>\n",
       "    </tr>\n",
       "    <tr>\n",
       "      <th>42</th>\n",
       "      <td>CCCAGCCCATGGTCTTCTTCT</td>\n",
       "      <td>6.81697</td>\n",
       "      <td>-31.45</td>\n",
       "      <td>-24.6330</td>\n",
       "      <td>(0-20:1125-1105)</td>\n",
       "      <td>6.820110</td>\n",
       "      <td>-31.45</td>\n",
       "      <td>-24.62990</td>\n",
       "      <td>(0-20:399-379)</td>\n",
       "    </tr>\n",
       "    <tr>\n",
       "      <th>27</th>\n",
       "      <td>AGCTTCAGGGCCTGGTGGATC</td>\n",
       "      <td>8.33519</td>\n",
       "      <td>-32.91</td>\n",
       "      <td>-24.5748</td>\n",
       "      <td>(0-20:459-439)</td>\n",
       "      <td>5.779790</td>\n",
       "      <td>-17.17</td>\n",
       "      <td>-11.39020</td>\n",
       "      <td>(0-19:968-951)</td>\n",
       "    </tr>\n",
       "    <tr>\n",
       "      <th>28</th>\n",
       "      <td>TTCAGGGCCTGGTGGATCTCG</td>\n",
       "      <td>6.39248</td>\n",
       "      <td>-30.93</td>\n",
       "      <td>-24.5375</td>\n",
       "      <td>(0-20:456-436)</td>\n",
       "      <td>4.526630</td>\n",
       "      <td>-13.76</td>\n",
       "      <td>-9.23337</td>\n",
       "      <td>(0-17:675-662)</td>\n",
       "    </tr>\n",
       "    <tr>\n",
       "      <th>45</th>\n",
       "      <td>TGGTCTTCTTCTGCATTACGG</td>\n",
       "      <td>7.33911</td>\n",
       "      <td>-31.80</td>\n",
       "      <td>-24.4609</td>\n",
       "      <td>(0-20:1119-1099)</td>\n",
       "      <td>7.340680</td>\n",
       "      <td>-31.80</td>\n",
       "      <td>-24.45930</td>\n",
       "      <td>(0-20:393-373)</td>\n",
       "    </tr>\n",
       "    <tr>\n",
       "      <th>6</th>\n",
       "      <td>TGGCGGCCCTCGGAGCGCTCG</td>\n",
       "      <td>4.90088</td>\n",
       "      <td>-28.64</td>\n",
       "      <td>-23.7391</td>\n",
       "      <td>(0-20:1329-1309)</td>\n",
       "      <td>4.963850</td>\n",
       "      <td>-28.64</td>\n",
       "      <td>-23.67620</td>\n",
       "      <td>(0-20:603-583)</td>\n",
       "    </tr>\n",
       "    <tr>\n",
       "      <th>22</th>\n",
       "      <td>GCTTCTTGGCCATGTAGATGG</td>\n",
       "      <td>9.27296</td>\n",
       "      <td>-32.80</td>\n",
       "      <td>-23.5270</td>\n",
       "      <td>(0-20:676-656)</td>\n",
       "      <td>9.809590</td>\n",
       "      <td>-18.41</td>\n",
       "      <td>-8.60041</td>\n",
       "      <td>(5-19:1250-1236)</td>\n",
       "    </tr>\n",
       "    <tr>\n",
       "      <th>44</th>\n",
       "      <td>CCATGGTCTTCTTCTGCATTA</td>\n",
       "      <td>9.90885</td>\n",
       "      <td>-33.35</td>\n",
       "      <td>-23.4411</td>\n",
       "      <td>(0-20:670-650)</td>\n",
       "      <td>5.658940</td>\n",
       "      <td>-13.79</td>\n",
       "      <td>-8.13106</td>\n",
       "      <td>(10-18:999-991)</td>\n",
       "    </tr>\n",
       "    <tr>\n",
       "      <th>7</th>\n",
       "      <td>GCTCGTACTGTTCCACGATGG</td>\n",
       "      <td>5.06720</td>\n",
       "      <td>-28.19</td>\n",
       "      <td>-23.1228</td>\n",
       "      <td>(0-20:1326-1306)</td>\n",
       "      <td>5.123940</td>\n",
       "      <td>-28.19</td>\n",
       "      <td>-23.06610</td>\n",
       "      <td>(0-20:600-580)</td>\n",
       "    </tr>\n",
       "    <tr>\n",
       "      <th>10</th>\n",
       "      <td>GTTCCACGATGGTGTAGTCCT</td>\n",
       "      <td>6.16580</td>\n",
       "      <td>-29.02</td>\n",
       "      <td>-22.8542</td>\n",
       "      <td>(0-20:570-550)</td>\n",
       "      <td>NaN</td>\n",
       "      <td>NaN</td>\n",
       "      <td>NaN</td>\n",
       "      <td>NaN</td>\n",
       "    </tr>\n",
       "    <tr>\n",
       "      <th>8</th>\n",
       "      <td>CGTACTGTTCCACGATGGTGT</td>\n",
       "      <td>4.30810</td>\n",
       "      <td>-27.02</td>\n",
       "      <td>-22.7119</td>\n",
       "      <td>(0-20:1323-1303)</td>\n",
       "      <td>4.429000</td>\n",
       "      <td>-27.02</td>\n",
       "      <td>-22.59100</td>\n",
       "      <td>(0-20:597-577)</td>\n",
       "    </tr>\n",
       "    <tr>\n",
       "      <th>55</th>\n",
       "      <td>AGGGAGGAGTCCTGGGTCACG</td>\n",
       "      <td>11.50290</td>\n",
       "      <td>-34.18</td>\n",
       "      <td>-22.6771</td>\n",
       "      <td>(0-20:1393-1373)</td>\n",
       "      <td>9.401910</td>\n",
       "      <td>-34.18</td>\n",
       "      <td>-24.77810</td>\n",
       "      <td>(0-20:667-647)</td>\n",
       "    </tr>\n",
       "    <tr>\n",
       "      <th>92</th>\n",
       "      <td>CCCAGGAACAGGTGGTGGCGG</td>\n",
       "      <td>9.83596</td>\n",
       "      <td>-32.23</td>\n",
       "      <td>-22.3940</td>\n",
       "      <td>(0-20:679-659)</td>\n",
       "      <td>8.738680</td>\n",
       "      <td>-27.72</td>\n",
       "      <td>-18.98130</td>\n",
       "      <td>(2-20:1403-1385)</td>\n",
       "    </tr>\n",
       "    <tr>\n",
       "      <th>33</th>\n",
       "      <td>GGGGGTACAGGCGCTCGGTGG</td>\n",
       "      <td>9.51426</td>\n",
       "      <td>-31.84</td>\n",
       "      <td>-22.3257</td>\n",
       "      <td>(0-20:673-653)</td>\n",
       "      <td>0.790752</td>\n",
       "      <td>-9.11</td>\n",
       "      <td>-8.31925</td>\n",
       "      <td>(9-14:861-856)</td>\n",
       "    </tr>\n",
       "    <tr>\n",
       "      <th>9</th>\n",
       "      <td>ACTGTTCCACGATGGTGTAGT</td>\n",
       "      <td>4.46726</td>\n",
       "      <td>-26.76</td>\n",
       "      <td>-22.2927</td>\n",
       "      <td>(0-20:1320-1300)</td>\n",
       "      <td>4.618240</td>\n",
       "      <td>-26.76</td>\n",
       "      <td>-22.14180</td>\n",
       "      <td>(0-20:594-574)</td>\n",
       "    </tr>\n",
       "    <tr>\n",
       "      <th>46</th>\n",
       "      <td>GGCCGTCGGGGGGGAAGTTGG</td>\n",
       "      <td>6.84675</td>\n",
       "      <td>-29.12</td>\n",
       "      <td>-22.2732</td>\n",
       "      <td>(0-20:1116-1096)</td>\n",
       "      <td>6.847220</td>\n",
       "      <td>-29.12</td>\n",
       "      <td>-22.27280</td>\n",
       "      <td>(0-20:390-370)</td>\n",
       "    </tr>\n",
       "    <tr>\n",
       "      <th>11</th>\n",
       "      <td>CCACGATGGTGTAGTCCTCGT</td>\n",
       "      <td>7.64783</td>\n",
       "      <td>-29.85</td>\n",
       "      <td>-22.2022</td>\n",
       "      <td>(0-20:1405-1385)</td>\n",
       "      <td>6.279150</td>\n",
       "      <td>-28.17</td>\n",
       "      <td>-21.89080</td>\n",
       "      <td>(2-20:677-659)</td>\n",
       "    </tr>\n",
       "    <tr>\n",
       "      <th>78</th>\n",
       "      <td>TTGGCGGTCTGGGTGCCCTCG</td>\n",
       "      <td>10.15020</td>\n",
       "      <td>-32.35</td>\n",
       "      <td>-22.1998</td>\n",
       "      <td>(0-20:861-841)</td>\n",
       "      <td>10.143000</td>\n",
       "      <td>-32.35</td>\n",
       "      <td>-22.20700</td>\n",
       "      <td>(0-20:135-115)</td>\n",
       "    </tr>\n",
       "    <tr>\n",
       "      <th>76</th>\n",
       "      <td>AGCTTGGCGGTCTGGGTGCCC</td>\n",
       "      <td>10.02720</td>\n",
       "      <td>-32.17</td>\n",
       "      <td>-22.1428</td>\n",
       "      <td>(0-20:862-842)</td>\n",
       "      <td>10.020000</td>\n",
       "      <td>-32.17</td>\n",
       "      <td>-22.15000</td>\n",
       "      <td>(0-20:136-116)</td>\n",
       "    </tr>\n",
       "  </tbody>\n",
       "</table>\n",
       "</div>"
      ],
      "text/plain": [
       "                 Sequence  AccessibilityEnergy_1  HybridizationEnergy_1  \\\n",
       "43  AGCCCATGGTCTTCTTCTGCA                7.70115                 -32.64   \n",
       "41  CCTCCCAGCCCATGGTCTTCT                7.77234                 -32.55   \n",
       "42  CCCAGCCCATGGTCTTCTTCT                6.81697                 -31.45   \n",
       "27  AGCTTCAGGGCCTGGTGGATC                8.33519                 -32.91   \n",
       "28  TTCAGGGCCTGGTGGATCTCG                6.39248                 -30.93   \n",
       "45  TGGTCTTCTTCTGCATTACGG                7.33911                 -31.80   \n",
       "6   TGGCGGCCCTCGGAGCGCTCG                4.90088                 -28.64   \n",
       "22  GCTTCTTGGCCATGTAGATGG                9.27296                 -32.80   \n",
       "44  CCATGGTCTTCTTCTGCATTA                9.90885                 -33.35   \n",
       "7   GCTCGTACTGTTCCACGATGG                5.06720                 -28.19   \n",
       "10  GTTCCACGATGGTGTAGTCCT                6.16580                 -29.02   \n",
       "8   CGTACTGTTCCACGATGGTGT                4.30810                 -27.02   \n",
       "55  AGGGAGGAGTCCTGGGTCACG               11.50290                 -34.18   \n",
       "92  CCCAGGAACAGGTGGTGGCGG                9.83596                 -32.23   \n",
       "33  GGGGGTACAGGCGCTCGGTGG                9.51426                 -31.84   \n",
       "9   ACTGTTCCACGATGGTGTAGT                4.46726                 -26.76   \n",
       "46  GGCCGTCGGGGGGGAAGTTGG                6.84675                 -29.12   \n",
       "11  CCACGATGGTGTAGTCCTCGT                7.64783                 -29.85   \n",
       "78  TTGGCGGTCTGGGTGCCCTCG               10.15020                 -32.35   \n",
       "76  AGCTTGGCGGTCTGGGTGCCC               10.02720                 -32.17   \n",
       "\n",
       "    InteractionEnergy_1         BasePair_1  AccessibilityEnergy_2  \\\n",
       "43             -24.9389  (0-20:1122-1102)                7.703790   \n",
       "41             -24.7777  (0-20:1128-1108)                7.774490   \n",
       "42             -24.6330  (0-20:1125-1105)                6.820110   \n",
       "27             -24.5748    (0-20:459-439)                5.779790   \n",
       "28             -24.5375    (0-20:456-436)                4.526630   \n",
       "45             -24.4609  (0-20:1119-1099)                7.340680   \n",
       "6              -23.7391  (0-20:1329-1309)                4.963850   \n",
       "22             -23.5270    (0-20:676-656)                9.809590   \n",
       "44             -23.4411    (0-20:670-650)                5.658940   \n",
       "7              -23.1228  (0-20:1326-1306)                5.123940   \n",
       "10             -22.8542    (0-20:570-550)                     NaN   \n",
       "8              -22.7119  (0-20:1323-1303)                4.429000   \n",
       "55             -22.6771  (0-20:1393-1373)                9.401910   \n",
       "92             -22.3940    (0-20:679-659)                8.738680   \n",
       "33             -22.3257    (0-20:673-653)                0.790752   \n",
       "9              -22.2927  (0-20:1320-1300)                4.618240   \n",
       "46             -22.2732  (0-20:1116-1096)                6.847220   \n",
       "11             -22.2022  (0-20:1405-1385)                6.279150   \n",
       "78             -22.1998    (0-20:861-841)               10.143000   \n",
       "76             -22.1428    (0-20:862-842)               10.020000   \n",
       "\n",
       "    HybridizationEnergy_2  InteractionEnergy_2         BasePair_2  \n",
       "43                 -32.64            -24.93620    (0-20:396-376)   \n",
       "41                 -32.55            -24.77550    (0-20:402-382)   \n",
       "42                 -31.45            -24.62990    (0-20:399-379)   \n",
       "27                 -17.17            -11.39020    (0-19:968-951)   \n",
       "28                 -13.76             -9.23337    (0-17:675-662)   \n",
       "45                 -31.80            -24.45930    (0-20:393-373)   \n",
       "6                  -28.64            -23.67620    (0-20:603-583)   \n",
       "22                 -18.41             -8.60041  (5-19:1250-1236)   \n",
       "44                 -13.79             -8.13106   (10-18:999-991)   \n",
       "7                  -28.19            -23.06610    (0-20:600-580)   \n",
       "10                    NaN                  NaN                NaN  \n",
       "8                  -27.02            -22.59100    (0-20:597-577)   \n",
       "55                 -34.18            -24.77810    (0-20:667-647)   \n",
       "92                 -27.72            -18.98130  (2-20:1403-1385)   \n",
       "33                  -9.11             -8.31925    (9-14:861-856)   \n",
       "9                  -26.76            -22.14180    (0-20:594-574)   \n",
       "46                 -29.12            -22.27280    (0-20:390-370)   \n",
       "11                 -28.17            -21.89080    (2-20:677-659)   \n",
       "78                 -32.35            -22.20700    (0-20:135-115)   \n",
       "76                 -32.17            -22.15000    (0-20:136-116)   "
      ]
     },
     "execution_count": 79,
     "metadata": {},
     "output_type": "execute_result"
    }
   ],
   "source": [
    "top_SD_IE = useful_RIblast.sort_values(\"InteractionEnergy_1\", axis = 0).dropna(subset = ['InteractionEnergy_1']).head(20)\n",
    "top_SD_IE"
   ]
  },
  {
   "cell_type": "code",
   "execution_count": 80,
   "id": "e433adab-7a60-40c4-a3d5-3e4a8aff009d",
   "metadata": {
    "execution": {
     "iopub.execute_input": "2022-07-26T22:14:07.294581Z",
     "iopub.status.busy": "2022-07-26T22:14:07.293761Z",
     "iopub.status.idle": "2022-07-26T22:14:07.307806Z",
     "shell.execute_reply": "2022-07-26T22:14:07.307039Z",
     "shell.execute_reply.started": "2022-07-26T22:14:07.294528Z"
    }
   },
   "outputs": [
    {
     "data": {
      "text/plain": [
       "[1122,\n",
       " 1128,\n",
       " 1125,\n",
       " 459,\n",
       " 456,\n",
       " 1119,\n",
       " 1329,\n",
       " 676,\n",
       " 670,\n",
       " 1326,\n",
       " 570,\n",
       " 1323,\n",
       " 1393,\n",
       " 679,\n",
       " 673,\n",
       " 1320,\n",
       " 1116,\n",
       " 1405,\n",
       " 861,\n",
       " 862]"
      ]
     },
     "execution_count": 80,
     "metadata": {},
     "output_type": "execute_result"
    }
   ],
   "source": [
    "# Extract starting location of binding of sesRNA\n",
    "[int(row.split(':', 1)[1].split('-', 1)[0]) for row in top_SD_IE['BasePair_1']]"
   ]
  },
  {
   "cell_type": "code",
   "execution_count": null,
   "id": "ca2d8187-f19f-4091-8abe-5f6d222c1716",
   "metadata": {},
   "outputs": [],
   "source": []
  },
  {
   "cell_type": "code",
   "execution_count": null,
   "id": "21d3b1d0-8746-4aab-b512-bf44203464ea",
   "metadata": {},
   "outputs": [],
   "source": []
  },
  {
   "cell_type": "code",
   "execution_count": null,
   "id": "31514e61-3486-489f-86da-44e749f2c3c8",
   "metadata": {},
   "outputs": [],
   "source": []
  },
  {
   "cell_type": "code",
   "execution_count": null,
   "id": "9020e551-878e-44ef-9f15-f5149a5cdea6",
   "metadata": {
    "tags": []
   },
   "outputs": [],
   "source": [
    "sd_filtered[\"TGG\" in sd_filtered]"
   ]
  },
  {
   "cell_type": "code",
   "execution_count": null,
   "id": "4f556702-fc27-42aa-8be7-82d45acc426b",
   "metadata": {
    "tags": []
   },
   "outputs": [],
   "source": [
    "len([x for x in sd_filtered if \"TGGA\" in x])"
   ]
  },
  {
   "cell_type": "code",
   "execution_count": null,
   "id": "99b5e204-7b68-41d6-aab6-3f34096d667d",
   "metadata": {
    "tags": []
   },
   "outputs": [],
   "source": [
    "[x for x in sd_filtered if \"TTGGA\" in x]"
   ]
  },
  {
   "cell_type": "code",
   "execution_count": null,
   "id": "d0307e39-5513-46da-9bcb-4644672fe829",
   "metadata": {
    "tags": []
   },
   "outputs": [],
   "source": [
    "len([x for x in sd_filtered if \"TTGG\" in x])"
   ]
  },
  {
   "cell_type": "code",
   "execution_count": null,
   "id": "2a1d31ac-e51c-43b8-aa82-532035282931",
   "metadata": {},
   "outputs": [],
   "source": []
  },
  {
   "cell_type": "code",
   "execution_count": null,
   "id": "4f77b3b1-fddc-4754-8f39-1e3306ea3297",
   "metadata": {},
   "outputs": [],
   "source": []
  },
  {
   "cell_type": "code",
   "execution_count": null,
   "id": "97b73d0b-23ee-4a2b-9270-79588a0220f4",
   "metadata": {},
   "outputs": [],
   "source": []
  },
  {
   "cell_type": "code",
   "execution_count": 8,
   "id": "feaa208e-26e2-4f66-8046-00f5dd3a9621",
   "metadata": {
    "execution": {
     "iopub.execute_input": "2022-07-26T20:48:33.238881Z",
     "iopub.status.busy": "2022-07-26T20:48:33.238064Z",
     "iopub.status.idle": "2022-07-26T20:48:33.254413Z",
     "shell.execute_reply": "2022-07-26T20:48:33.253598Z",
     "shell.execute_reply.started": "2022-07-26T20:48:33.238849Z"
    },
    "tags": []
   },
   "outputs": [],
   "source": [
    "def screen_RS(template, length):\n",
    "    # Add a's as padding until divisible by 21\n",
    "    while (len(template) % length) != 0: template = template + \"a\"\n",
    "    # calling generator function \n",
    "    res = [Seq(\"\".join(ele)) for ele in sliceSeq(template, length)] \n",
    "    # Filtered for stop and start codons ... and containing \n",
    "    # Removes ducplicates\n",
    "    return list(OrderedDict.fromkeys([chunk for chunk in res if (len(chunk.translate(to_stop = True)) == (length/3)) & (\"M\" not in chunk.translate(to_stop = True)) ]))"
   ]
  },
  {
   "cell_type": "code",
   "execution_count": 9,
   "id": "7416cab2-216d-4af3-9848-561ef2816f76",
   "metadata": {
    "execution": {
     "iopub.execute_input": "2022-07-26T20:48:34.580864Z",
     "iopub.status.busy": "2022-07-26T20:48:34.580219Z",
     "iopub.status.idle": "2022-07-26T20:48:34.637499Z",
     "shell.execute_reply": "2022-07-26T20:48:34.636986Z",
     "shell.execute_reply.started": "2022-07-26T20:48:34.580832Z"
    },
    "tags": []
   },
   "outputs": [
    {
     "data": {
      "text/plain": [
       "645"
      ]
     },
     "execution_count": 9,
     "metadata": {},
     "output_type": "execute_result"
    }
   ],
   "source": [
    "# Removes duplicates ... mostly to deal with repeats \n",
    "rs_filtered = screen_RS(templateSeq, length = 15)\n",
    "len(rs_filtered)"
   ]
  },
  {
   "cell_type": "code",
   "execution_count": 11,
   "id": "1dcd36cc-aa61-4a23-ab1f-691d4f994b0b",
   "metadata": {
    "execution": {
     "iopub.execute_input": "2022-07-26T20:48:51.063247Z",
     "iopub.status.busy": "2022-07-26T20:48:51.062491Z",
     "iopub.status.idle": "2022-07-26T20:49:15.929788Z",
     "shell.execute_reply": "2022-07-26T20:49:15.929448Z",
     "shell.execute_reply.started": "2022-07-26T20:48:51.063197Z"
    },
    "tags": []
   },
   "outputs": [],
   "source": [
    "rs_useful_RIblast = higher_order.output_RIblast(targetSeq, rs_filtered)"
   ]
  },
  {
   "cell_type": "code",
   "execution_count": 72,
   "id": "68b35ae0-9602-40d6-8c64-ea37dd188fb3",
   "metadata": {
    "execution": {
     "iopub.execute_input": "2022-07-26T22:09:36.317257Z",
     "iopub.status.busy": "2022-07-26T22:09:36.316288Z",
     "iopub.status.idle": "2022-07-26T22:09:36.343871Z",
     "shell.execute_reply": "2022-07-26T22:09:36.343484Z",
     "shell.execute_reply.started": "2022-07-26T22:09:36.317200Z"
    },
    "tags": []
   },
   "outputs": [
    {
     "data": {
      "text/html": [
       "<div>\n",
       "<style scoped>\n",
       "    .dataframe tbody tr th:only-of-type {\n",
       "        vertical-align: middle;\n",
       "    }\n",
       "\n",
       "    .dataframe tbody tr th {\n",
       "        vertical-align: top;\n",
       "    }\n",
       "\n",
       "    .dataframe thead th {\n",
       "        text-align: right;\n",
       "    }\n",
       "</style>\n",
       "<table border=\"1\" class=\"dataframe\">\n",
       "  <thead>\n",
       "    <tr style=\"text-align: right;\">\n",
       "      <th></th>\n",
       "      <th>Sequence</th>\n",
       "      <th>AccessibilityEnergy_1</th>\n",
       "      <th>HybridizationEnergy_1</th>\n",
       "      <th>InteractionEnergy_1</th>\n",
       "      <th>BasePair_1</th>\n",
       "      <th>AccessibilityEnergy_2</th>\n",
       "      <th>HybridizationEnergy_2</th>\n",
       "      <th>InteractionEnergy_2</th>\n",
       "      <th>BasePair_2</th>\n",
       "    </tr>\n",
       "  </thead>\n",
       "  <tbody>\n",
       "    <tr>\n",
       "      <th>324</th>\n",
       "      <td>TCACGGTCACCAGAC</td>\n",
       "      <td>2.22648</td>\n",
       "      <td>-23.50</td>\n",
       "      <td>-21.2735</td>\n",
       "      <td>(0-14:968-954)</td>\n",
       "      <td>2.22665</td>\n",
       "      <td>-23.50</td>\n",
       "      <td>-21.27330</td>\n",
       "      <td>(0-14:242-228)</td>\n",
       "    </tr>\n",
       "    <tr>\n",
       "      <th>565</th>\n",
       "      <td>CCATGTTGTTGTCCT</td>\n",
       "      <td>2.15973</td>\n",
       "      <td>-22.59</td>\n",
       "      <td>-20.4303</td>\n",
       "      <td>(0-14:21-7)</td>\n",
       "      <td>6.92619</td>\n",
       "      <td>-17.91</td>\n",
       "      <td>-10.98380</td>\n",
       "      <td>(2-14:832-820)</td>\n",
       "    </tr>\n",
       "    <tr>\n",
       "      <th>325</th>\n",
       "      <td>CACGGTCACCAGACC</td>\n",
       "      <td>1.90009</td>\n",
       "      <td>-22.26</td>\n",
       "      <td>-20.3599</td>\n",
       "      <td>(0-14:966-952)</td>\n",
       "      <td>1.90061</td>\n",
       "      <td>-22.26</td>\n",
       "      <td>-20.35940</td>\n",
       "      <td>(0-14:240-226)</td>\n",
       "    </tr>\n",
       "    <tr>\n",
       "      <th>164</th>\n",
       "      <td>GGCCTGGTGGATCTC</td>\n",
       "      <td>6.07997</td>\n",
       "      <td>-26.32</td>\n",
       "      <td>-20.2400</td>\n",
       "      <td>(0-14:1130-1116)</td>\n",
       "      <td>6.08170</td>\n",
       "      <td>-26.32</td>\n",
       "      <td>-20.23830</td>\n",
       "      <td>(0-14:404-390)</td>\n",
       "    </tr>\n",
       "    <tr>\n",
       "      <th>567</th>\n",
       "      <td>TGTTGTTGTCCTCGG</td>\n",
       "      <td>1.95891</td>\n",
       "      <td>-21.95</td>\n",
       "      <td>-19.9911</td>\n",
       "      <td>(0-14:19-5)</td>\n",
       "      <td>7.19359</td>\n",
       "      <td>-20.38</td>\n",
       "      <td>-13.18640</td>\n",
       "      <td>(0-14:832-818)</td>\n",
       "    </tr>\n",
       "    <tr>\n",
       "      <th>566</th>\n",
       "      <td>CATGTTGTTGTCCTC</td>\n",
       "      <td>2.25284</td>\n",
       "      <td>-22.18</td>\n",
       "      <td>-19.9272</td>\n",
       "      <td>(0-14:20-6)</td>\n",
       "      <td>7.09039</td>\n",
       "      <td>-19.37</td>\n",
       "      <td>-12.27960</td>\n",
       "      <td>(1-14:832-819)</td>\n",
       "    </tr>\n",
       "    <tr>\n",
       "      <th>570</th>\n",
       "      <td>TGTTGTCCTCGGAGG</td>\n",
       "      <td>2.15169</td>\n",
       "      <td>-21.94</td>\n",
       "      <td>-19.7883</td>\n",
       "      <td>(0-14:16-2)</td>\n",
       "      <td>6.42262</td>\n",
       "      <td>-16.46</td>\n",
       "      <td>-10.03740</td>\n",
       "      <td>(0-11:829-818)</td>\n",
       "    </tr>\n",
       "    <tr>\n",
       "      <th>563</th>\n",
       "      <td>CGGCCATGTTGTTGT</td>\n",
       "      <td>2.12295</td>\n",
       "      <td>-21.91</td>\n",
       "      <td>-19.7870</td>\n",
       "      <td>(0-14:23-9)</td>\n",
       "      <td>6.04950</td>\n",
       "      <td>-15.49</td>\n",
       "      <td>-9.44050</td>\n",
       "      <td>(4-14:832-822)</td>\n",
       "    </tr>\n",
       "    <tr>\n",
       "      <th>568</th>\n",
       "      <td>GTTGTTGTCCTCGGA</td>\n",
       "      <td>2.12537</td>\n",
       "      <td>-21.70</td>\n",
       "      <td>-19.5746</td>\n",
       "      <td>(0-14:18-4)</td>\n",
       "      <td>7.20047</td>\n",
       "      <td>-19.99</td>\n",
       "      <td>-12.78950</td>\n",
       "      <td>(0-13:831-818)</td>\n",
       "    </tr>\n",
       "    <tr>\n",
       "      <th>571</th>\n",
       "      <td>GTTGTCCTCGGAGGA</td>\n",
       "      <td>2.23042</td>\n",
       "      <td>-21.72</td>\n",
       "      <td>-19.4896</td>\n",
       "      <td>(0-14:15-1)</td>\n",
       "      <td>2.16862</td>\n",
       "      <td>-10.72</td>\n",
       "      <td>-8.55138</td>\n",
       "      <td>(0-10:822-812)</td>\n",
       "    </tr>\n",
       "    <tr>\n",
       "      <th>165</th>\n",
       "      <td>GCCTGGTGGATCTCG</td>\n",
       "      <td>6.38301</td>\n",
       "      <td>-25.86</td>\n",
       "      <td>-19.4770</td>\n",
       "      <td>(0-14:1129-1115)</td>\n",
       "      <td>6.38476</td>\n",
       "      <td>-25.86</td>\n",
       "      <td>-19.47520</td>\n",
       "      <td>(0-14:403-389)</td>\n",
       "    </tr>\n",
       "    <tr>\n",
       "      <th>323</th>\n",
       "      <td>GTCACGGTCACCAGA</td>\n",
       "      <td>3.07098</td>\n",
       "      <td>-22.40</td>\n",
       "      <td>-19.3290</td>\n",
       "      <td>(0-14:969-955)</td>\n",
       "      <td>3.07103</td>\n",
       "      <td>-22.40</td>\n",
       "      <td>-19.32900</td>\n",
       "      <td>(0-14:243-229)</td>\n",
       "    </tr>\n",
       "    <tr>\n",
       "      <th>326</th>\n",
       "      <td>ACGGTCACCAGACCG</td>\n",
       "      <td>2.19392</td>\n",
       "      <td>-21.51</td>\n",
       "      <td>-19.3161</td>\n",
       "      <td>(0-14:965-951)</td>\n",
       "      <td>2.19431</td>\n",
       "      <td>-21.51</td>\n",
       "      <td>-19.31570</td>\n",
       "      <td>(0-14:239-225)</td>\n",
       "    </tr>\n",
       "    <tr>\n",
       "      <th>173</th>\n",
       "      <td>GATCTCGCCCTTCAG</td>\n",
       "      <td>3.56239</td>\n",
       "      <td>-22.85</td>\n",
       "      <td>-19.2876</td>\n",
       "      <td>(0-14:1121-1107)</td>\n",
       "      <td>3.56499</td>\n",
       "      <td>-22.85</td>\n",
       "      <td>-19.28500</td>\n",
       "      <td>(0-14:395-381)</td>\n",
       "    </tr>\n",
       "    <tr>\n",
       "      <th>564</th>\n",
       "      <td>GGCCATGTTGTTGTC</td>\n",
       "      <td>2.45819</td>\n",
       "      <td>-21.72</td>\n",
       "      <td>-19.2618</td>\n",
       "      <td>(0-14:22-8)</td>\n",
       "      <td>5.97807</td>\n",
       "      <td>-15.99</td>\n",
       "      <td>-10.01190</td>\n",
       "      <td>(3-13:832-822)</td>\n",
       "    </tr>\n",
       "    <tr>\n",
       "      <th>569</th>\n",
       "      <td>TTGTTGTCCTCGGAG</td>\n",
       "      <td>2.13551</td>\n",
       "      <td>-21.33</td>\n",
       "      <td>-19.1945</td>\n",
       "      <td>(0-14:17-3)</td>\n",
       "      <td>7.15866</td>\n",
       "      <td>-17.92</td>\n",
       "      <td>-10.76130</td>\n",
       "      <td>(0-12:830-818)</td>\n",
       "    </tr>\n",
       "    <tr>\n",
       "      <th>162</th>\n",
       "      <td>AGGGCCTGGTGGATC</td>\n",
       "      <td>6.10874</td>\n",
       "      <td>-25.26</td>\n",
       "      <td>-19.1513</td>\n",
       "      <td>(0-14:1131-1117)</td>\n",
       "      <td>6.11037</td>\n",
       "      <td>-25.26</td>\n",
       "      <td>-19.14960</td>\n",
       "      <td>(0-14:405-391)</td>\n",
       "    </tr>\n",
       "    <tr>\n",
       "      <th>327</th>\n",
       "      <td>CGGTCACCAGACCGC</td>\n",
       "      <td>3.98527</td>\n",
       "      <td>-23.05</td>\n",
       "      <td>-19.0647</td>\n",
       "      <td>(0-14:963-949)</td>\n",
       "      <td>3.98611</td>\n",
       "      <td>-23.05</td>\n",
       "      <td>-19.06390</td>\n",
       "      <td>(0-14:237-223)</td>\n",
       "    </tr>\n",
       "    <tr>\n",
       "      <th>104</th>\n",
       "      <td>GGCAGTTGCACGGGC</td>\n",
       "      <td>3.56674</td>\n",
       "      <td>-22.56</td>\n",
       "      <td>-18.9933</td>\n",
       "      <td>(0-14:463-449)</td>\n",
       "      <td>4.38809</td>\n",
       "      <td>-13.78</td>\n",
       "      <td>-9.39191</td>\n",
       "      <td>(4-14:918-908)</td>\n",
       "    </tr>\n",
       "    <tr>\n",
       "      <th>170</th>\n",
       "      <td>GTGGATCTCGCCCTT</td>\n",
       "      <td>3.08869</td>\n",
       "      <td>-22.02</td>\n",
       "      <td>-18.9313</td>\n",
       "      <td>(0-14:1124-1110)</td>\n",
       "      <td>3.09162</td>\n",
       "      <td>-22.02</td>\n",
       "      <td>-18.92840</td>\n",
       "      <td>(0-14:398-384)</td>\n",
       "    </tr>\n",
       "  </tbody>\n",
       "</table>\n",
       "</div>"
      ],
      "text/plain": [
       "            Sequence  AccessibilityEnergy_1  HybridizationEnergy_1  \\\n",
       "324  TCACGGTCACCAGAC                2.22648                 -23.50   \n",
       "565  CCATGTTGTTGTCCT                2.15973                 -22.59   \n",
       "325  CACGGTCACCAGACC                1.90009                 -22.26   \n",
       "164  GGCCTGGTGGATCTC                6.07997                 -26.32   \n",
       "567  TGTTGTTGTCCTCGG                1.95891                 -21.95   \n",
       "566  CATGTTGTTGTCCTC                2.25284                 -22.18   \n",
       "570  TGTTGTCCTCGGAGG                2.15169                 -21.94   \n",
       "563  CGGCCATGTTGTTGT                2.12295                 -21.91   \n",
       "568  GTTGTTGTCCTCGGA                2.12537                 -21.70   \n",
       "571  GTTGTCCTCGGAGGA                2.23042                 -21.72   \n",
       "165  GCCTGGTGGATCTCG                6.38301                 -25.86   \n",
       "323  GTCACGGTCACCAGA                3.07098                 -22.40   \n",
       "326  ACGGTCACCAGACCG                2.19392                 -21.51   \n",
       "173  GATCTCGCCCTTCAG                3.56239                 -22.85   \n",
       "564  GGCCATGTTGTTGTC                2.45819                 -21.72   \n",
       "569  TTGTTGTCCTCGGAG                2.13551                 -21.33   \n",
       "162  AGGGCCTGGTGGATC                6.10874                 -25.26   \n",
       "327  CGGTCACCAGACCGC                3.98527                 -23.05   \n",
       "104  GGCAGTTGCACGGGC                3.56674                 -22.56   \n",
       "170  GTGGATCTCGCCCTT                3.08869                 -22.02   \n",
       "\n",
       "     InteractionEnergy_1         BasePair_1  AccessibilityEnergy_2  \\\n",
       "324             -21.2735    (0-14:968-954)                 2.22665   \n",
       "565             -20.4303       (0-14:21-7)                 6.92619   \n",
       "325             -20.3599    (0-14:966-952)                 1.90061   \n",
       "164             -20.2400  (0-14:1130-1116)                 6.08170   \n",
       "567             -19.9911       (0-14:19-5)                 7.19359   \n",
       "566             -19.9272       (0-14:20-6)                 7.09039   \n",
       "570             -19.7883       (0-14:16-2)                 6.42262   \n",
       "563             -19.7870       (0-14:23-9)                 6.04950   \n",
       "568             -19.5746       (0-14:18-4)                 7.20047   \n",
       "571             -19.4896       (0-14:15-1)                 2.16862   \n",
       "165             -19.4770  (0-14:1129-1115)                 6.38476   \n",
       "323             -19.3290    (0-14:969-955)                 3.07103   \n",
       "326             -19.3161    (0-14:965-951)                 2.19431   \n",
       "173             -19.2876  (0-14:1121-1107)                 3.56499   \n",
       "564             -19.2618       (0-14:22-8)                 5.97807   \n",
       "569             -19.1945       (0-14:17-3)                 7.15866   \n",
       "162             -19.1513  (0-14:1131-1117)                 6.11037   \n",
       "327             -19.0647    (0-14:963-949)                 3.98611   \n",
       "104             -18.9933    (0-14:463-449)                 4.38809   \n",
       "170             -18.9313  (0-14:1124-1110)                 3.09162   \n",
       "\n",
       "     HybridizationEnergy_2  InteractionEnergy_2       BasePair_2  \n",
       "324                 -23.50            -21.27330  (0-14:242-228)   \n",
       "565                 -17.91            -10.98380  (2-14:832-820)   \n",
       "325                 -22.26            -20.35940  (0-14:240-226)   \n",
       "164                 -26.32            -20.23830  (0-14:404-390)   \n",
       "567                 -20.38            -13.18640  (0-14:832-818)   \n",
       "566                 -19.37            -12.27960  (1-14:832-819)   \n",
       "570                 -16.46            -10.03740  (0-11:829-818)   \n",
       "563                 -15.49             -9.44050  (4-14:832-822)   \n",
       "568                 -19.99            -12.78950  (0-13:831-818)   \n",
       "571                 -10.72             -8.55138  (0-10:822-812)   \n",
       "165                 -25.86            -19.47520  (0-14:403-389)   \n",
       "323                 -22.40            -19.32900  (0-14:243-229)   \n",
       "326                 -21.51            -19.31570  (0-14:239-225)   \n",
       "173                 -22.85            -19.28500  (0-14:395-381)   \n",
       "564                 -15.99            -10.01190  (3-13:832-822)   \n",
       "569                 -17.92            -10.76130  (0-12:830-818)   \n",
       "162                 -25.26            -19.14960  (0-14:405-391)   \n",
       "327                 -23.05            -19.06390  (0-14:237-223)   \n",
       "104                 -13.78             -9.39191  (4-14:918-908)   \n",
       "170                 -22.02            -18.92840  (0-14:398-384)   "
      ]
     },
     "execution_count": 72,
     "metadata": {},
     "output_type": "execute_result"
    }
   ],
   "source": [
    "top_RS_IE = rs_useful_RIblast.sort_values(\"InteractionEnergy_1\", axis = 0).dropna(subset = ['InteractionEnergy_1']).head(20)\n",
    "top_RS_IE"
   ]
  },
  {
   "cell_type": "code",
   "execution_count": 73,
   "id": "4c549732-bce8-45c9-85c1-a9ffedf50994",
   "metadata": {
    "execution": {
     "iopub.execute_input": "2022-07-26T22:09:41.196456Z",
     "iopub.status.busy": "2022-07-26T22:09:41.195725Z",
     "iopub.status.idle": "2022-07-26T22:09:41.207503Z",
     "shell.execute_reply": "2022-07-26T22:09:41.206768Z",
     "shell.execute_reply.started": "2022-07-26T22:09:41.196350Z"
    },
    "tags": []
   },
   "outputs": [
    {
     "data": {
      "text/plain": [
       "15"
      ]
     },
     "execution_count": 73,
     "metadata": {},
     "output_type": "execute_result"
    }
   ],
   "source": [
    "len(top_RS_IE.iloc[0,0])"
   ]
  },
  {
   "cell_type": "code",
   "execution_count": 74,
   "id": "302e8feb-90b8-4f5c-b0d1-7578092a8ce7",
   "metadata": {
    "execution": {
     "iopub.execute_input": "2022-07-26T22:09:41.963055Z",
     "iopub.status.busy": "2022-07-26T22:09:41.961687Z",
     "iopub.status.idle": "2022-07-26T22:09:41.977037Z",
     "shell.execute_reply": "2022-07-26T22:09:41.976092Z",
     "shell.execute_reply.started": "2022-07-26T22:09:41.963015Z"
    },
    "tags": []
   },
   "outputs": [
    {
     "data": {
      "text/plain": [
       "[968,\n",
       " 21,\n",
       " 966,\n",
       " 1130,\n",
       " 19,\n",
       " 20,\n",
       " 16,\n",
       " 23,\n",
       " 18,\n",
       " 15,\n",
       " 1129,\n",
       " 969,\n",
       " 965,\n",
       " 1121,\n",
       " 22,\n",
       " 17,\n",
       " 1131,\n",
       " 963,\n",
       " 463,\n",
       " 1124]"
      ]
     },
     "execution_count": 74,
     "metadata": {},
     "output_type": "execute_result"
    }
   ],
   "source": [
    "# Extract starting location of binding of sesRNA\n",
    "[int(row.split(':', 1)[1].split('-', 1)[0]) for row in top_RS_IE['BasePair_1']]"
   ]
  },
  {
   "cell_type": "code",
   "execution_count": null,
   "id": "64b5f3d5-4d48-4275-a444-6e85e6b15113",
   "metadata": {},
   "outputs": [],
   "source": []
  },
  {
   "cell_type": "code",
   "execution_count": null,
   "id": "4ec84a03-cc32-4d93-882a-192bb4171128",
   "metadata": {},
   "outputs": [],
   "source": []
  },
  {
   "cell_type": "code",
   "execution_count": null,
   "id": "7fc130ff-287f-45ad-8ccb-10c23e168b60",
   "metadata": {},
   "outputs": [],
   "source": []
  },
  {
   "cell_type": "code",
   "execution_count": null,
   "id": "f26e2f03-41fd-4261-8223-b0d0e8a42fb2",
   "metadata": {},
   "outputs": [],
   "source": []
  },
  {
   "cell_type": "code",
   "execution_count": null,
   "id": "b141bbe0-0338-4cf7-afd7-576510e8ac37",
   "metadata": {},
   "outputs": [],
   "source": []
  }
 ],
 "metadata": {
  "kernelspec": {
   "display_name": "alCellREADR",
   "language": "python",
   "name": "alcellreadr"
  },
  "language_info": {
   "codemirror_mode": {
    "name": "ipython",
    "version": 3
   },
   "file_extension": ".py",
   "mimetype": "text/x-python",
   "name": "python",
   "nbconvert_exporter": "python",
   "pygments_lexer": "ipython3",
   "version": "3.10.4"
  }
 },
 "nbformat": 4,
 "nbformat_minor": 5
}
