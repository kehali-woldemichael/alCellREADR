{
 "cells": [
  {
   "cell_type": "code",
   "execution_count": 1,
   "id": "807d3a70-8518-42ca-a211-74a5b0974344",
   "metadata": {
    "execution": {
     "iopub.execute_input": "2022-07-26T18:04:30.850884Z",
     "iopub.status.busy": "2022-07-26T18:04:30.849881Z",
     "iopub.status.idle": "2022-07-26T18:04:31.146925Z",
     "shell.execute_reply": "2022-07-26T18:04:31.146628Z",
     "shell.execute_reply.started": "2022-07-26T18:04:30.850783Z"
    },
    "tags": []
   },
   "outputs": [],
   "source": [
    "import sys\n",
    "import os\n",
    "from itertools import islice\n",
    "import logging\n",
    "\n",
    "import pandas as pd\n",
    "import numpy as np\n",
    "from collections import OrderedDict"
   ]
  },
  {
   "cell_type": "code",
   "execution_count": 2,
   "id": "2ed2c9ef-dae8-4794-967c-9b04830d0e6a",
   "metadata": {
    "execution": {
     "iopub.execute_input": "2022-07-26T18:04:31.147650Z",
     "iopub.status.busy": "2022-07-26T18:04:31.147492Z",
     "iopub.status.idle": "2022-07-26T18:04:31.186465Z",
     "shell.execute_reply": "2022-07-26T18:04:31.186166Z",
     "shell.execute_reply.started": "2022-07-26T18:04:31.147640Z"
    },
    "tags": []
   },
   "outputs": [],
   "source": [
    "from Bio import SeqIO\n",
    "from Bio.Seq import Seq \n",
    "from Bio.SeqRecord import SeqRecord"
   ]
  },
  {
   "cell_type": "code",
   "execution_count": 3,
   "id": "44310d4a-58e5-4b16-bd3c-d608745170c3",
   "metadata": {
    "execution": {
     "iopub.execute_input": "2022-07-26T18:04:31.186977Z",
     "iopub.status.busy": "2022-07-26T18:04:31.186871Z",
     "iopub.status.idle": "2022-07-26T18:04:31.191522Z",
     "shell.execute_reply": "2022-07-26T18:04:31.191226Z",
     "shell.execute_reply.started": "2022-07-26T18:04:31.186968Z"
    },
    "tags": []
   },
   "outputs": [],
   "source": [
    "sys.path.append('/Users/kbw29/Dropbox/Research/Neurobiology_PhD/Huang/Projects/CellReadR/Code/alCellREADR')\n",
    "from py_modules import *"
   ]
  },
  {
   "cell_type": "code",
   "execution_count": null,
   "id": "88bc8446-6c89-4817-b2da-a610b034c0d8",
   "metadata": {},
   "outputs": [],
   "source": []
  },
  {
   "cell_type": "code",
   "execution_count": null,
   "id": "4f2bb08b-4522-496c-bcee-8e059aaebe89",
   "metadata": {},
   "outputs": [],
   "source": []
  },
  {
   "cell_type": "code",
   "execution_count": null,
   "id": "dfc51e6b-ad5b-41c1-8e77-b4bbf52280d7",
   "metadata": {},
   "outputs": [],
   "source": [
    "def generate_linear_sesRNAs(targetSeq): "
   ]
  },
  {
   "cell_type": "code",
   "execution_count": null,
   "id": "ca79367a-4daf-40fa-89a5-a73f1d6763c6",
   "metadata": {},
   "outputs": [],
   "source": [
    "def generate_split_sesRNAs():"
   ]
  },
  {
   "cell_type": "code",
   "execution_count": null,
   "id": "f41508c9-d5f9-425e-92f8-fe39564eb4c6",
   "metadata": {},
   "outputs": [],
   "source": [
    "def generate_cisSE_sesRNAs(targetSeq):"
   ]
  },
  {
   "cell_type": "code",
   "execution_count": null,
   "id": "3a2908e8-21e5-4ec2-8c23-d067356374e6",
   "metadata": {},
   "outputs": [],
   "source": [
    "def check_chunks(templa"
   ]
  },
  {
   "cell_type": "code",
   "execution_count": null,
   "id": "2f625144-0083-4cb9-a42f-70a10e9a5080",
   "metadata": {},
   "outputs": [],
   "source": []
  },
  {
   "cell_type": "code",
   "execution_count": 4,
   "id": "7ed8bd5c-3c3e-46ad-8d71-8c3970b0608a",
   "metadata": {
    "execution": {
     "iopub.execute_input": "2022-07-26T18:04:31.192645Z",
     "iopub.status.busy": "2022-07-26T18:04:31.192535Z",
     "iopub.status.idle": "2022-07-26T18:04:31.194880Z",
     "shell.execute_reply": "2022-07-26T18:04:31.194554Z",
     "shell.execute_reply.started": "2022-07-26T18:04:31.192636Z"
    },
    "tags": []
   },
   "outputs": [],
   "source": [
    "class sesRNA():\n",
    "    def __init__(self, seq, typeSes, \n",
    "                 accessibility_energy = 0, interaction_energy = 0, hybirdization_energy = 0):\n",
    "        self.seq = seq\n",
    "        self.typeSeq = typeSes\n",
    "        \n",
    "        self.accessibility_energy = accessibility_energy\n",
    "        self.interaction_energy = interaction_energy\n",
    "        self.hybirdization_energy = hybirdization_energy"
   ]
  },
  {
   "cell_type": "code",
   "execution_count": 5,
   "id": "113d881c-ec3c-48bb-a08d-4db7472c05a7",
   "metadata": {
    "execution": {
     "iopub.execute_input": "2022-07-26T18:04:31.195423Z",
     "iopub.status.busy": "2022-07-26T18:04:31.195329Z",
     "iopub.status.idle": "2022-07-26T18:04:31.197599Z",
     "shell.execute_reply": "2022-07-26T18:04:31.197309Z",
     "shell.execute_reply.started": "2022-07-26T18:04:31.195414Z"
    },
    "tags": []
   },
   "outputs": [],
   "source": [
    "class sesRNA_batch():\n",
    "    def __init_(self, sesRNA_list):\n",
    "        self.sesRNA_list = sesRNA_list\n",
    "        \n",
    "    def metric_table(self):\n",
    "        \"\"\"Return Pandas Dataframe with sesRNA metrics\"\"\""
   ]
  },
  {
   "cell_type": "code",
   "execution_count": null,
   "id": "1254bec0-5496-415a-adf2-68de44373689",
   "metadata": {},
   "outputs": [],
   "source": []
  },
  {
   "cell_type": "code",
   "execution_count": 6,
   "id": "60c80ca7-5110-47c4-a4c2-3e2d851d41de",
   "metadata": {
    "execution": {
     "iopub.execute_input": "2022-07-26T18:04:31.826799Z",
     "iopub.status.busy": "2022-07-26T18:04:31.826285Z",
     "iopub.status.idle": "2022-07-26T18:04:31.842364Z",
     "shell.execute_reply": "2022-07-26T18:04:31.841788Z",
     "shell.execute_reply.started": "2022-07-26T18:04:31.826763Z"
    },
    "tags": []
   },
   "outputs": [],
   "source": [
    "tdT_Seq = \"atggtgagcaagggcgaggaggtcatcaaagagttcatgcgcttcaaggtgcgcatggagggctccatgaacggccacgagttcgagatcgagggcgagggcgagggccgcccctacgagggcacccagaccgccaagctgaaggtgaccaagggcggccccctgcccttcgcctgggacatcctgtccccccagttcatgtacggctccaaggcgtacgtgaagcaccccgccgacatccccgattacaagaagctgtccttccccgagggcttcaagtgggagcgcgtgatgaacttcgaggacggcggtctggtgaccgtgacccaggactcctccctgcaggacggcacgctgatctacaaggtgaagatgcgcggcaccaacttcccccccgacggccccgtaatgcagaagaagaccatgggctgggaggcctccaccgagcgcctgtacccccgcgacggcgtgctgaagggcgagatccaccaggccctgaagctgaaggacggcggccactacctggtggagttcaagaccatctacatggccaagaagcccgtgcaactgcccggctactactacgtggacaccaagctggacatcacctcccacaacgaggactacaccatcgtggaacagtacgagcgctccgagggccgccaccacctgttcctggggcatggcaccggcagcaccggcagcggcagctccggcaccgcctcctccgaggacaacaacatggccgtcatcaaagagttcatgcgcttcaaggtgcgcatggagggctccatgaacggccacgagttcgagatcgagggcgagggcgagggccgcccctacgagggcacccagaccgccaagctgaaggtgaccaagggcggccccctgcccttcgcctgggacatcctgtccccccagttcatgtacggctccaaggcgtacgtgaagcaccccgccgacatccccgattacaagaagctgtccttccccgagggcttcaagtgggagcgcgtgatgaacttcgaggacggcggtctggtgaccgtgacccaggactcctccctgcaggacggcacgctgatctacaaggtgaagatgcgcggcaccaacttcccccccgacggccccgtaatgcagaagaagaccatgggctgggaggcctccaccgagcgcctgtacccccgcgacggcgtgctgaagggcgagatccaccaggccctgaagctgaaggacggcggccactacctggtggagttcaagaccatctacatggccaagaagcccgtgcaactgcccggctactactacgtggacaccaagctggacatcacctcccacaacgaggactacaccatcgtggaacagtacgagcgctccgagggccgccaccacctgttcctgtacggcatggacgagctgtacaagtaa\""
   ]
  },
  {
   "cell_type": "code",
   "execution_count": 7,
   "id": "a10a745c-1459-418e-9c3f-e7838003751a",
   "metadata": {
    "execution": {
     "iopub.execute_input": "2022-07-26T18:04:31.970287Z",
     "iopub.status.busy": "2022-07-26T18:04:31.969601Z",
     "iopub.status.idle": "2022-07-26T18:04:31.977718Z",
     "shell.execute_reply": "2022-07-26T18:04:31.976802Z",
     "shell.execute_reply.started": "2022-07-26T18:04:31.970242Z"
    },
    "tags": []
   },
   "outputs": [],
   "source": [
    "# RIblast requires sequences in upper case \n",
    "targetSeq = Seq(tdT_Seq.upper())\n",
    "templateSeq = targetSeq.reverse_complement()"
   ]
  },
  {
   "cell_type": "code",
   "execution_count": 8,
   "id": "95297c2d-366c-4d5d-82c8-7b2869fa4d58",
   "metadata": {
    "execution": {
     "iopub.execute_input": "2022-07-26T18:04:32.117174Z",
     "iopub.status.busy": "2022-07-26T18:04:32.116668Z",
     "iopub.status.idle": "2022-07-26T18:04:32.127912Z",
     "shell.execute_reply": "2022-07-26T18:04:32.126902Z",
     "shell.execute_reply.started": "2022-07-26T18:04:32.117144Z"
    },
    "tags": []
   },
   "outputs": [],
   "source": [
    "# generator function \n",
    "def sliceSeq(seq, K):\n",
    "    itr = iter(seq)\n",
    "    res = tuple(islice(itr, K))\n",
    "    if len(res) == K:\n",
    "        yield res    \n",
    "    for ele in itr:\n",
    "        res = res[1:] + (ele,)\n",
    "        yield res"
   ]
  },
  {
   "cell_type": "code",
   "execution_count": 9,
   "id": "e633391f-8da0-489e-aecc-e1e3b03111dc",
   "metadata": {
    "execution": {
     "iopub.execute_input": "2022-07-26T18:04:32.253127Z",
     "iopub.status.busy": "2022-07-26T18:04:32.252346Z",
     "iopub.status.idle": "2022-07-26T18:04:32.266262Z",
     "shell.execute_reply": "2022-07-26T18:04:32.265252Z",
     "shell.execute_reply.started": "2022-07-26T18:04:32.253072Z"
    },
    "tags": []
   },
   "outputs": [],
   "source": [
    "def screenSD(template, length, typeSeq):\n",
    "    # Add a's as padding until divisible by 21\n",
    "    while (len(template) % length) != 0: template = template + \"a\"\n",
    "    # calling generator function \n",
    "    res = [Seq(\"\".join(ele)) for ele in sliceSeq(template, length)] \n",
    "    # Filtered for stop and start codons ... and containing \n",
    "    initialSesRNAs = [chunk for chunk in res if (len(chunk.translate(to_stop = True)) == (length/3)) & (\"M\" not in chunk.translate(to_stop = True)) & (\"W\" in chunk.translate())]\n",
    "    # Removes duplicates and returns list of sesRNA objects\n",
    "    return list([sesRNA(chunk, typeSeq) for chunk in OrderedDict.fromkeys(initialSesRNAs)])"
   ]
  },
  {
   "cell_type": "code",
   "execution_count": 10,
   "id": "d2bbe132-db14-407a-b2a8-4f9b39dcea75",
   "metadata": {
    "execution": {
     "iopub.execute_input": "2022-07-26T18:04:32.399531Z",
     "iopub.status.busy": "2022-07-26T18:04:32.399059Z",
     "iopub.status.idle": "2022-07-26T18:04:32.459265Z",
     "shell.execute_reply": "2022-07-26T18:04:32.458960Z",
     "shell.execute_reply.started": "2022-07-26T18:04:32.399505Z"
    },
    "tags": []
   },
   "outputs": [
    {
     "data": {
      "text/plain": [
       "93"
      ]
     },
     "execution_count": 10,
     "metadata": {},
     "output_type": "execute_result"
    }
   ],
   "source": [
    "# Removes duplicates ... mostly to deal with repeats \n",
    "sd_filtered = screenSD(templateSeq, length = 21, typeSeq = \"split\")\n",
    "len(sd_filtered)"
   ]
  },
  {
   "cell_type": "code",
   "execution_count": 11,
   "id": "76bff10f-b7a2-4053-8aef-f87aee2ac41d",
   "metadata": {
    "execution": {
     "iopub.execute_input": "2022-07-26T18:04:32.947771Z",
     "iopub.status.busy": "2022-07-26T18:04:32.947196Z",
     "iopub.status.idle": "2022-07-26T18:04:32.957105Z",
     "shell.execute_reply": "2022-07-26T18:04:32.956250Z",
     "shell.execute_reply.started": "2022-07-26T18:04:32.947735Z"
    },
    "tags": []
   },
   "outputs": [
    {
     "data": {
      "text/plain": [
       "0"
      ]
     },
     "execution_count": 11,
     "metadata": {},
     "output_type": "execute_result"
    }
   ],
   "source": [
    "sd_filtered[0].hybirdization_energy"
   ]
  },
  {
   "cell_type": "code",
   "execution_count": null,
   "id": "0fbbf61b-10d4-403c-8ad2-38184365bf89",
   "metadata": {},
   "outputs": [],
   "source": []
  },
  {
   "cell_type": "code",
   "execution_count": null,
   "id": "d6092a6a-946c-4aa9-838a-460755a4d280",
   "metadata": {
    "tags": []
   },
   "outputs": [],
   "source": [
    "sd_filtered[180].seq"
   ]
  },
  {
   "cell_type": "code",
   "execution_count": null,
   "id": "af7ca243-a5ab-46e0-8c05-c4d0f4023bfb",
   "metadata": {
    "tags": []
   },
   "outputs": [],
   "source": [
    "sd_filtered[2]"
   ]
  },
  {
   "cell_type": "code",
   "execution_count": null,
   "id": "9020e551-878e-44ef-9f15-f5149a5cdea6",
   "metadata": {
    "tags": []
   },
   "outputs": [],
   "source": [
    "sd_filtered[\"TGG\" in sd_filtered]"
   ]
  },
  {
   "cell_type": "code",
   "execution_count": null,
   "id": "4f556702-fc27-42aa-8be7-82d45acc426b",
   "metadata": {
    "tags": []
   },
   "outputs": [],
   "source": [
    "len([x for x in sd_filtered if \"TGGA\" in x])"
   ]
  },
  {
   "cell_type": "code",
   "execution_count": null,
   "id": "99b5e204-7b68-41d6-aab6-3f34096d667d",
   "metadata": {
    "tags": []
   },
   "outputs": [],
   "source": [
    "[x for x in sd_filtered if \"TTGGA\" in x]"
   ]
  },
  {
   "cell_type": "code",
   "execution_count": null,
   "id": "d0307e39-5513-46da-9bcb-4644672fe829",
   "metadata": {
    "tags": []
   },
   "outputs": [],
   "source": [
    "len([x for x in sd_filtered if \"TTGG\" in x])"
   ]
  },
  {
   "cell_type": "code",
   "execution_count": null,
   "id": "2a1d31ac-e51c-43b8-aa82-532035282931",
   "metadata": {},
   "outputs": [],
   "source": []
  },
  {
   "cell_type": "code",
   "execution_count": null,
   "id": "914d1255-6db6-4073-97ef-84db1bccf28c",
   "metadata": {},
   "outputs": [],
   "source": []
  },
  {
   "cell_type": "code",
   "execution_count": 12,
   "id": "1dcd36cc-aa61-4a23-ab1f-691d4f994b0b",
   "metadata": {
    "execution": {
     "iopub.execute_input": "2022-07-26T18:04:36.141338Z",
     "iopub.status.busy": "2022-07-26T18:04:36.140733Z",
     "iopub.status.idle": "2022-07-26T18:04:41.030509Z",
     "shell.execute_reply": "2022-07-26T18:04:41.030162Z",
     "shell.execute_reply.started": "2022-07-26T18:04:36.141302Z"
    },
    "tags": []
   },
   "outputs": [
    {
     "name": "stdout",
     "output_type": "stream",
     "text": [
      "RIblast ris mode has started.\n",
      "Rna interaction search of query:test_sd For testing sd binding to target has started.\n",
      "Rna interaction search of query:test_sd For testing sd binding to target has finished.\n",
      "RIblast ris mode has finished.\n",
      "RIblast ris mode has started.\n",
      "Rna interaction search of query:test_sd For testing sd binding to target has started.\n",
      "Rna interaction search of query:test_sd For testing sd binding to target has finished.\n",
      "RIblast ris mode has finished.\n",
      "RIblast ris mode has started.\n",
      "Rna interaction search of query:test_sd For testing sd binding to target has started.\n",
      "Rna interaction search of query:test_sd For testing sd binding to target has finished.\n",
      "RIblast ris mode has finished.\n",
      "RIblast ris mode has started.\n",
      "Rna interaction search of query:test_sd For testing sd binding to target has started.\n",
      "Rna interaction search of query:test_sd For testing sd binding to target has finished.\n",
      "RIblast ris mode has finished.\n",
      "RIblast ris mode has started.\n",
      "Rna interaction search of query:test_sd For testing sd binding to target has started.\n",
      "Rna interaction search of query:test_sd For testing sd binding to target has finished.\n",
      "RIblast ris mode has finished.\n",
      "RIblast ris mode has started.\n",
      "Rna interaction search of query:test_sd For testing sd binding to target has started.\n",
      "Rna interaction search of query:test_sd For testing sd binding to target has finished.\n",
      "RIblast ris mode has finished.\n",
      "RIblast ris mode has started.\n",
      "Rna interaction search of query:test_sd For testing sd binding to target has started.\n",
      "Rna interaction search of query:test_sd For testing sd binding to target has finished.\n",
      "RIblast ris mode has finished.\n",
      "RIblast ris mode has started.\n",
      "Rna interaction search of query:test_sd For testing sd binding to target has started.\n",
      "Rna interaction search of query:test_sd For testing sd binding to target has finished.\n",
      "RIblast ris mode has finished.\n",
      "RIblast ris mode has started.\n",
      "Rna interaction search of query:test_sd For testing sd binding to target has started.\n",
      "Rna interaction search of query:test_sd For testing sd binding to target has finished.\n",
      "RIblast ris mode has finished.\n",
      "RIblast ris mode has started.\n",
      "Rna interaction search of query:test_sd For testing sd binding to target has started.\n",
      "Rna interaction search of query:test_sd For testing sd binding to target has finished.\n",
      "RIblast ris mode has finished.\n",
      "RIblast ris mode has started.\n",
      "Rna interaction search of query:test_sd For testing sd binding to target has started.\n",
      "Rna interaction search of query:test_sd For testing sd binding to target has finished.\n",
      "RIblast ris mode has finished.\n",
      "RIblast ris mode has started.\n",
      "Rna interaction search of query:test_sd For testing sd binding to target has started.\n",
      "Rna interaction search of query:test_sd For testing sd binding to target has finished.\n",
      "RIblast ris mode has finished.\n",
      "RIblast ris mode has started.\n",
      "Rna interaction search of query:test_sd For testing sd binding to target has started.\n",
      "Rna interaction search of query:test_sd For testing sd binding to target has finished.\n",
      "RIblast ris mode has finished.\n",
      "RIblast ris mode has started.\n",
      "Rna interaction search of query:test_sd For testing sd binding to target has started.\n",
      "Rna interaction search of query:test_sd For testing sd binding to target has finished.\n",
      "RIblast ris mode has finished.\n",
      "RIblast ris mode has started.\n",
      "Rna interaction search of query:test_sd For testing sd binding to target has started.\n",
      "Rna interaction search of query:test_sd For testing sd binding to target has finished.\n",
      "RIblast ris mode has finished.\n",
      "RIblast ris mode has started.\n",
      "Rna interaction search of query:test_sd For testing sd binding to target has started.\n",
      "Rna interaction search of query:test_sd For testing sd binding to target has finished.\n",
      "RIblast ris mode has finished.\n",
      "RIblast ris mode has started.\n",
      "Rna interaction search of query:test_sd For testing sd binding to target has started.\n",
      "Rna interaction search of query:test_sd For testing sd binding to target has finished.\n",
      "RIblast ris mode has finished.\n",
      "RIblast ris mode has started.\n",
      "Rna interaction search of query:test_sd For testing sd binding to target has started.\n",
      "Rna interaction search of query:test_sd For testing sd binding to target has finished.\n",
      "RIblast ris mode has finished.\n",
      "RIblast ris mode has started.\n",
      "Rna interaction search of query:test_sd For testing sd binding to target has started.\n",
      "Rna interaction search of query:test_sd For testing sd binding to target has finished.\n",
      "RIblast ris mode has finished.\n",
      "RIblast ris mode has started.\n",
      "Rna interaction search of query:test_sd For testing sd binding to target has started.\n",
      "Rna interaction search of query:test_sd For testing sd binding to target has finished.\n",
      "RIblast ris mode has finished.\n",
      "RIblast ris mode has started.\n",
      "Rna interaction search of query:test_sd For testing sd binding to target has started.\n",
      "Rna interaction search of query:test_sd For testing sd binding to target has finished.\n",
      "RIblast ris mode has finished.\n",
      "RIblast ris mode has started.\n",
      "Rna interaction search of query:test_sd For testing sd binding to target has started.\n",
      "Rna interaction search of query:test_sd For testing sd binding to target has finished.\n",
      "RIblast ris mode has finished.\n",
      "RIblast ris mode has started.\n",
      "Rna interaction search of query:test_sd For testing sd binding to target has started.\n",
      "Rna interaction search of query:test_sd For testing sd binding to target has finished.\n",
      "RIblast ris mode has finished.\n",
      "RIblast ris mode has started.\n",
      "Rna interaction search of query:test_sd For testing sd binding to target has started.\n",
      "Rna interaction search of query:test_sd For testing sd binding to target has finished.\n",
      "RIblast ris mode has finished.\n",
      "RIblast ris mode has started.\n",
      "Rna interaction search of query:test_sd For testing sd binding to target has started.\n",
      "Rna interaction search of query:test_sd For testing sd binding to target has finished.\n",
      "RIblast ris mode has finished.\n",
      "RIblast ris mode has started.\n",
      "Rna interaction search of query:test_sd For testing sd binding to target has started.\n",
      "Rna interaction search of query:test_sd For testing sd binding to target has finished.\n",
      "RIblast ris mode has finished.\n",
      "RIblast ris mode has started.\n",
      "Rna interaction search of query:test_sd For testing sd binding to target has started.\n",
      "Rna interaction search of query:test_sd For testing sd binding to target has finished.\n",
      "RIblast ris mode has finished.\n",
      "RIblast ris mode has started.\n",
      "Rna interaction search of query:test_sd For testing sd binding to target has started.\n",
      "Rna interaction search of query:test_sd For testing sd binding to target has finished.\n",
      "RIblast ris mode has finished.\n",
      "RIblast ris mode has started.\n",
      "Rna interaction search of query:test_sd For testing sd binding to target has started.\n",
      "Rna interaction search of query:test_sd For testing sd binding to target has finished.\n",
      "RIblast ris mode has finished.\n",
      "RIblast ris mode has started.\n",
      "Rna interaction search of query:test_sd For testing sd binding to target has started.\n",
      "Rna interaction search of query:test_sd For testing sd binding to target has finished.\n",
      "RIblast ris mode has finished.\n",
      "RIblast ris mode has started.\n",
      "Rna interaction search of query:test_sd For testing sd binding to target has started.\n",
      "Rna interaction search of query:test_sd For testing sd binding to target has finished.\n",
      "RIblast ris mode has finished.\n",
      "RIblast ris mode has started.\n",
      "Rna interaction search of query:test_sd For testing sd binding to target has started.\n",
      "Rna interaction search of query:test_sd For testing sd binding to target has finished.\n",
      "RIblast ris mode has finished.\n",
      "RIblast ris mode has started.\n",
      "Rna interaction search of query:test_sd For testing sd binding to target has started.\n",
      "Rna interaction search of query:test_sd For testing sd binding to target has finished.\n",
      "RIblast ris mode has finished.\n",
      "RIblast ris mode has started.\n",
      "Rna interaction search of query:test_sd For testing sd binding to target has started.\n",
      "Rna interaction search of query:test_sd For testing sd binding to target has finished.\n",
      "RIblast ris mode has finished.\n",
      "RIblast ris mode has started.\n",
      "Rna interaction search of query:test_sd For testing sd binding to target has started.\n",
      "Rna interaction search of query:test_sd For testing sd binding to target has finished.\n",
      "RIblast ris mode has finished.\n",
      "RIblast ris mode has started.\n",
      "Rna interaction search of query:test_sd For testing sd binding to target has started.\n",
      "Rna interaction search of query:test_sd For testing sd binding to target has finished.\n",
      "RIblast ris mode has finished.\n",
      "RIblast ris mode has started.\n",
      "Rna interaction search of query:test_sd For testing sd binding to target has started.\n",
      "Rna interaction search of query:test_sd For testing sd binding to target has finished.\n",
      "RIblast ris mode has finished.\n",
      "RIblast ris mode has started.\n",
      "Rna interaction search of query:test_sd For testing sd binding to target has started.\n",
      "Rna interaction search of query:test_sd For testing sd binding to target has finished.\n",
      "RIblast ris mode has finished.\n",
      "RIblast ris mode has started.\n",
      "Rna interaction search of query:test_sd For testing sd binding to target has started.\n",
      "Rna interaction search of query:test_sd For testing sd binding to target has finished.\n",
      "RIblast ris mode has finished.\n",
      "RIblast ris mode has started.\n",
      "Rna interaction search of query:test_sd For testing sd binding to target has started.\n",
      "Rna interaction search of query:test_sd For testing sd binding to target has finished.\n",
      "RIblast ris mode has finished.\n",
      "RIblast ris mode has started.\n",
      "Rna interaction search of query:test_sd For testing sd binding to target has started.\n",
      "Rna interaction search of query:test_sd For testing sd binding to target has finished.\n",
      "RIblast ris mode has finished.\n",
      "RIblast ris mode has started.\n",
      "Rna interaction search of query:test_sd For testing sd binding to target has started.\n",
      "Rna interaction search of query:test_sd For testing sd binding to target has finished.\n",
      "RIblast ris mode has finished.\n",
      "RIblast ris mode has started.\n",
      "Rna interaction search of query:test_sd For testing sd binding to target has started.\n",
      "Rna interaction search of query:test_sd For testing sd binding to target has finished.\n",
      "RIblast ris mode has finished.\n",
      "RIblast ris mode has started.\n",
      "Rna interaction search of query:test_sd For testing sd binding to target has started.\n",
      "Rna interaction search of query:test_sd For testing sd binding to target has finished.\n",
      "RIblast ris mode has finished.\n",
      "RIblast ris mode has started.\n",
      "Rna interaction search of query:test_sd For testing sd binding to target has started.\n",
      "Rna interaction search of query:test_sd For testing sd binding to target has finished.\n",
      "RIblast ris mode has finished.\n",
      "RIblast ris mode has started.\n",
      "Rna interaction search of query:test_sd For testing sd binding to target has started.\n",
      "Rna interaction search of query:test_sd For testing sd binding to target has finished.\n",
      "RIblast ris mode has finished.\n",
      "RIblast ris mode has started.\n",
      "Rna interaction search of query:test_sd For testing sd binding to target has started.\n",
      "Rna interaction search of query:test_sd For testing sd binding to target has finished.\n",
      "RIblast ris mode has finished.\n",
      "RIblast ris mode has started.\n",
      "Rna interaction search of query:test_sd For testing sd binding to target has started.\n",
      "Rna interaction search of query:test_sd For testing sd binding to target has finished.\n",
      "RIblast ris mode has finished.\n",
      "RIblast ris mode has started.\n",
      "Rna interaction search of query:test_sd For testing sd binding to target has started.\n",
      "Rna interaction search of query:test_sd For testing sd binding to target has finished.\n",
      "RIblast ris mode has finished.\n",
      "RIblast ris mode has started.\n",
      "Rna interaction search of query:test_sd For testing sd binding to target has started.\n",
      "Rna interaction search of query:test_sd For testing sd binding to target has finished.\n",
      "RIblast ris mode has finished.\n",
      "RIblast ris mode has started.\n",
      "Rna interaction search of query:test_sd For testing sd binding to target has started.\n",
      "Rna interaction search of query:test_sd For testing sd binding to target has finished.\n",
      "RIblast ris mode has finished.\n",
      "RIblast ris mode has started.\n",
      "Rna interaction search of query:test_sd For testing sd binding to target has started.\n",
      "Rna interaction search of query:test_sd For testing sd binding to target has finished.\n",
      "RIblast ris mode has finished.\n",
      "RIblast ris mode has started.\n",
      "Rna interaction search of query:test_sd For testing sd binding to target has started.\n",
      "Rna interaction search of query:test_sd For testing sd binding to target has finished.\n",
      "RIblast ris mode has finished.\n",
      "RIblast ris mode has started.\n",
      "Rna interaction search of query:test_sd For testing sd binding to target has started.\n",
      "Rna interaction search of query:test_sd For testing sd binding to target has finished.\n",
      "RIblast ris mode has finished.\n",
      "RIblast ris mode has started.\n",
      "Rna interaction search of query:test_sd For testing sd binding to target has started.\n",
      "Rna interaction search of query:test_sd For testing sd binding to target has finished.\n",
      "RIblast ris mode has finished.\n",
      "RIblast ris mode has started.\n",
      "Rna interaction search of query:test_sd For testing sd binding to target has started.\n",
      "Rna interaction search of query:test_sd For testing sd binding to target has finished.\n",
      "RIblast ris mode has finished.\n",
      "RIblast ris mode has started.\n",
      "Rna interaction search of query:test_sd For testing sd binding to target has started.\n",
      "Rna interaction search of query:test_sd For testing sd binding to target has finished.\n",
      "RIblast ris mode has finished.\n",
      "RIblast ris mode has started.\n",
      "Rna interaction search of query:test_sd For testing sd binding to target has started.\n",
      "Rna interaction search of query:test_sd For testing sd binding to target has finished.\n",
      "RIblast ris mode has finished.\n",
      "RIblast ris mode has started.\n",
      "Rna interaction search of query:test_sd For testing sd binding to target has started.\n",
      "Rna interaction search of query:test_sd For testing sd binding to target has finished.\n",
      "RIblast ris mode has finished.\n",
      "RIblast ris mode has started.\n",
      "Rna interaction search of query:test_sd For testing sd binding to target has started.\n",
      "Rna interaction search of query:test_sd For testing sd binding to target has finished.\n",
      "RIblast ris mode has finished.\n",
      "RIblast ris mode has started.\n",
      "Rna interaction search of query:test_sd For testing sd binding to target has started.\n",
      "Rna interaction search of query:test_sd For testing sd binding to target has finished.\n",
      "RIblast ris mode has finished.\n",
      "RIblast ris mode has started.\n",
      "Rna interaction search of query:test_sd For testing sd binding to target has started.\n",
      "Rna interaction search of query:test_sd For testing sd binding to target has finished.\n",
      "RIblast ris mode has finished.\n",
      "RIblast ris mode has started.\n",
      "Rna interaction search of query:test_sd For testing sd binding to target has started.\n",
      "Rna interaction search of query:test_sd For testing sd binding to target has finished.\n",
      "RIblast ris mode has finished.\n",
      "RIblast ris mode has started.\n",
      "Rna interaction search of query:test_sd For testing sd binding to target has started.\n",
      "Rna interaction search of query:test_sd For testing sd binding to target has finished.\n",
      "RIblast ris mode has finished.\n",
      "RIblast ris mode has started.\n",
      "Rna interaction search of query:test_sd For testing sd binding to target has started.\n",
      "Rna interaction search of query:test_sd For testing sd binding to target has finished.\n",
      "RIblast ris mode has finished.\n",
      "RIblast ris mode has started.\n",
      "Rna interaction search of query:test_sd For testing sd binding to target has started.\n",
      "Rna interaction search of query:test_sd For testing sd binding to target has finished.\n",
      "RIblast ris mode has finished.\n",
      "RIblast ris mode has started.\n",
      "Rna interaction search of query:test_sd For testing sd binding to target has started.\n",
      "Rna interaction search of query:test_sd For testing sd binding to target has finished.\n",
      "RIblast ris mode has finished.\n",
      "RIblast ris mode has started.\n",
      "Rna interaction search of query:test_sd For testing sd binding to target has started.\n",
      "Rna interaction search of query:test_sd For testing sd binding to target has finished.\n",
      "RIblast ris mode has finished.\n",
      "RIblast ris mode has started.\n",
      "Rna interaction search of query:test_sd For testing sd binding to target has started.\n",
      "Rna interaction search of query:test_sd For testing sd binding to target has finished.\n",
      "RIblast ris mode has finished.\n",
      "RIblast ris mode has started.\n",
      "Rna interaction search of query:test_sd For testing sd binding to target has started.\n",
      "Rna interaction search of query:test_sd For testing sd binding to target has finished.\n",
      "RIblast ris mode has finished.\n",
      "RIblast ris mode has started.\n",
      "Rna interaction search of query:test_sd For testing sd binding to target has started.\n",
      "Rna interaction search of query:test_sd For testing sd binding to target has finished.\n",
      "RIblast ris mode has finished.\n",
      "RIblast ris mode has started.\n",
      "Rna interaction search of query:test_sd For testing sd binding to target has started.\n",
      "Rna interaction search of query:test_sd For testing sd binding to target has finished.\n",
      "RIblast ris mode has finished.\n",
      "RIblast ris mode has started.\n",
      "Rna interaction search of query:test_sd For testing sd binding to target has started.\n",
      "Rna interaction search of query:test_sd For testing sd binding to target has finished.\n",
      "RIblast ris mode has finished.\n",
      "RIblast ris mode has started.\n",
      "Rna interaction search of query:test_sd For testing sd binding to target has started.\n",
      "Rna interaction search of query:test_sd For testing sd binding to target has finished.\n",
      "RIblast ris mode has finished.\n",
      "RIblast ris mode has started.\n",
      "Rna interaction search of query:test_sd For testing sd binding to target has started.\n",
      "Rna interaction search of query:test_sd For testing sd binding to target has finished.\n",
      "RIblast ris mode has finished.\n",
      "RIblast ris mode has started.\n",
      "Rna interaction search of query:test_sd For testing sd binding to target has started.\n",
      "Rna interaction search of query:test_sd For testing sd binding to target has finished.\n",
      "RIblast ris mode has finished.\n",
      "RIblast ris mode has started.\n",
      "Rna interaction search of query:test_sd For testing sd binding to target has started.\n",
      "Rna interaction search of query:test_sd For testing sd binding to target has finished.\n",
      "RIblast ris mode has finished.\n",
      "RIblast ris mode has started.\n",
      "Rna interaction search of query:test_sd For testing sd binding to target has started.\n",
      "Rna interaction search of query:test_sd For testing sd binding to target has finished.\n",
      "RIblast ris mode has finished.\n",
      "RIblast ris mode has started.\n",
      "Rna interaction search of query:test_sd For testing sd binding to target has started.\n",
      "Rna interaction search of query:test_sd For testing sd binding to target has finished.\n",
      "RIblast ris mode has finished.\n",
      "RIblast ris mode has started.\n",
      "Rna interaction search of query:test_sd For testing sd binding to target has started.\n",
      "Rna interaction search of query:test_sd For testing sd binding to target has finished.\n",
      "RIblast ris mode has finished.\n",
      "RIblast ris mode has started.\n",
      "Rna interaction search of query:test_sd For testing sd binding to target has started.\n",
      "Rna interaction search of query:test_sd For testing sd binding to target has finished.\n",
      "RIblast ris mode has finished.\n",
      "RIblast ris mode has started.\n",
      "Rna interaction search of query:test_sd For testing sd binding to target has started.\n",
      "Rna interaction search of query:test_sd For testing sd binding to target has finished.\n",
      "RIblast ris mode has finished.\n",
      "RIblast ris mode has started.\n",
      "Rna interaction search of query:test_sd For testing sd binding to target has started.\n",
      "Rna interaction search of query:test_sd For testing sd binding to target has finished.\n",
      "RIblast ris mode has finished.\n",
      "RIblast ris mode has started.\n",
      "Rna interaction search of query:test_sd For testing sd binding to target has started.\n",
      "Rna interaction search of query:test_sd For testing sd binding to target has finished.\n",
      "RIblast ris mode has finished.\n",
      "RIblast ris mode has started.\n",
      "Rna interaction search of query:test_sd For testing sd binding to target has started.\n",
      "Rna interaction search of query:test_sd For testing sd binding to target has finished.\n",
      "RIblast ris mode has finished.\n",
      "RIblast ris mode has started.\n",
      "Rna interaction search of query:test_sd For testing sd binding to target has started.\n",
      "Rna interaction search of query:test_sd For testing sd binding to target has finished.\n",
      "RIblast ris mode has finished.\n",
      "RIblast ris mode has started.\n",
      "Rna interaction search of query:test_sd For testing sd binding to target has started.\n",
      "Rna interaction search of query:test_sd For testing sd binding to target has finished.\n",
      "RIblast ris mode has finished.\n",
      "RIblast ris mode has started.\n",
      "Rna interaction search of query:test_sd For testing sd binding to target has started.\n",
      "Rna interaction search of query:test_sd For testing sd binding to target has finished.\n",
      "RIblast ris mode has finished.\n",
      "RIblast ris mode has started.\n",
      "Rna interaction search of query:test_sd For testing sd binding to target has started.\n",
      "Rna interaction search of query:test_sd For testing sd binding to target has finished.\n",
      "RIblast ris mode has finished.\n",
      "RIblast ris mode has started.\n",
      "Rna interaction search of query:test_sd For testing sd binding to target has started.\n",
      "Rna interaction search of query:test_sd For testing sd binding to target has finished.\n",
      "RIblast ris mode has finished.\n",
      "RIblast ris mode has started.\n",
      "Rna interaction search of query:test_sd For testing sd binding to target has started.\n",
      "Rna interaction search of query:test_sd For testing sd binding to target has finished.\n",
      "RIblast ris mode has finished.\n",
      "RIblast ris mode has started.\n",
      "Rna interaction search of query:test_sd For testing sd binding to target has started.\n",
      "Rna interaction search of query:test_sd For testing sd binding to target has finished.\n",
      "RIblast ris mode has finished.\n",
      "RIblast ris mode has started.\n",
      "Rna interaction search of query:test_sd For testing sd binding to target has started.\n",
      "Rna interaction search of query:test_sd For testing sd binding to target has finished.\n",
      "RIblast ris mode has finished.\n"
     ]
    }
   ],
   "source": [
    "useful_RIblast = higher_order.output_RIblast(targetSeq, sd_filtered)"
   ]
  },
  {
   "cell_type": "code",
   "execution_count": 14,
   "id": "a5571e7f-858e-49cb-a9c3-dbcd7a8fecd2",
   "metadata": {
    "execution": {
     "iopub.execute_input": "2022-07-26T18:04:47.117424Z",
     "iopub.status.busy": "2022-07-26T18:04:47.116761Z",
     "iopub.status.idle": "2022-07-26T18:04:47.145040Z",
     "shell.execute_reply": "2022-07-26T18:04:47.144577Z",
     "shell.execute_reply.started": "2022-07-26T18:04:47.117389Z"
    }
   },
   "outputs": [
    {
     "data": {
      "text/html": [
       "<div>\n",
       "<style scoped>\n",
       "    .dataframe tbody tr th:only-of-type {\n",
       "        vertical-align: middle;\n",
       "    }\n",
       "\n",
       "    .dataframe tbody tr th {\n",
       "        vertical-align: top;\n",
       "    }\n",
       "\n",
       "    .dataframe thead th {\n",
       "        text-align: right;\n",
       "    }\n",
       "</style>\n",
       "<table border=\"1\" class=\"dataframe\">\n",
       "  <thead>\n",
       "    <tr style=\"text-align: right;\">\n",
       "      <th></th>\n",
       "      <th>Accessibility Energy</th>\n",
       "      <th>Hybridization Energy</th>\n",
       "      <th>Interaction Energy</th>\n",
       "      <th>BasePair</th>\n",
       "      <th>Accessibility Energy</th>\n",
       "      <th>Hybridization Energy</th>\n",
       "      <th>Interaction Energy</th>\n",
       "      <th>BasePair</th>\n",
       "    </tr>\n",
       "  </thead>\n",
       "  <tbody>\n",
       "    <tr>\n",
       "      <th>0</th>\n",
       "      <td>6.05604</td>\n",
       "      <td>-22.72</td>\n",
       "      <td>-16.6640</td>\n",
       "      <td>(5-20:677-662)</td>\n",
       "      <td>5.13185</td>\n",
       "      <td>-15.65</td>\n",
       "      <td>-10.51820</td>\n",
       "      <td>(4-20:672-659)</td>\n",
       "    </tr>\n",
       "    <tr>\n",
       "      <th>0</th>\n",
       "      <td>7.79334</td>\n",
       "      <td>-26.04</td>\n",
       "      <td>-18.2467</td>\n",
       "      <td>(0-20:642-622)</td>\n",
       "      <td>NaN</td>\n",
       "      <td>NaN</td>\n",
       "      <td>NaN</td>\n",
       "      <td>NaN</td>\n",
       "    </tr>\n",
       "    <tr>\n",
       "      <th>0</th>\n",
       "      <td>7.85799</td>\n",
       "      <td>-27.04</td>\n",
       "      <td>-19.1820</td>\n",
       "      <td>(0-20:639-619)</td>\n",
       "      <td>3.44469</td>\n",
       "      <td>-11.71</td>\n",
       "      <td>-8.26531</td>\n",
       "      <td>(2-17:1315-1303)</td>\n",
       "    </tr>\n",
       "    <tr>\n",
       "      <th>0</th>\n",
       "      <td>10.20040</td>\n",
       "      <td>-27.47</td>\n",
       "      <td>-17.2696</td>\n",
       "      <td>(0-20:636-616)</td>\n",
       "      <td>NaN</td>\n",
       "      <td>NaN</td>\n",
       "      <td>NaN</td>\n",
       "      <td>NaN</td>\n",
       "    </tr>\n",
       "    <tr>\n",
       "      <th>0</th>\n",
       "      <td>8.39218</td>\n",
       "      <td>-26.03</td>\n",
       "      <td>-17.6378</td>\n",
       "      <td>(0-20:633-613)</td>\n",
       "      <td>NaN</td>\n",
       "      <td>NaN</td>\n",
       "      <td>NaN</td>\n",
       "      <td>NaN</td>\n",
       "    </tr>\n",
       "    <tr>\n",
       "      <th>...</th>\n",
       "      <td>...</td>\n",
       "      <td>...</td>\n",
       "      <td>...</td>\n",
       "      <td>...</td>\n",
       "      <td>...</td>\n",
       "      <td>...</td>\n",
       "      <td>...</td>\n",
       "      <td>...</td>\n",
       "    </tr>\n",
       "    <tr>\n",
       "      <th>0</th>\n",
       "      <td>7.62986</td>\n",
       "      <td>-25.98</td>\n",
       "      <td>-18.3501</td>\n",
       "      <td>(0-20:645-625)</td>\n",
       "      <td>NaN</td>\n",
       "      <td>NaN</td>\n",
       "      <td>NaN</td>\n",
       "      <td>NaN</td>\n",
       "    </tr>\n",
       "    <tr>\n",
       "      <th>0</th>\n",
       "      <td>10.19040</td>\n",
       "      <td>-32.04</td>\n",
       "      <td>-21.8496</td>\n",
       "      <td>(0-20:66-46)</td>\n",
       "      <td>NaN</td>\n",
       "      <td>NaN</td>\n",
       "      <td>NaN</td>\n",
       "      <td>NaN</td>\n",
       "    </tr>\n",
       "    <tr>\n",
       "      <th>0</th>\n",
       "      <td>11.44130</td>\n",
       "      <td>-31.43</td>\n",
       "      <td>-19.9887</td>\n",
       "      <td>(0-20:685-665)</td>\n",
       "      <td>NaN</td>\n",
       "      <td>NaN</td>\n",
       "      <td>NaN</td>\n",
       "      <td>NaN</td>\n",
       "    </tr>\n",
       "    <tr>\n",
       "      <th>0</th>\n",
       "      <td>13.48160</td>\n",
       "      <td>-31.78</td>\n",
       "      <td>-18.2984</td>\n",
       "      <td>(0-20:682-662)</td>\n",
       "      <td>NaN</td>\n",
       "      <td>NaN</td>\n",
       "      <td>NaN</td>\n",
       "      <td>NaN</td>\n",
       "    </tr>\n",
       "    <tr>\n",
       "      <th>0</th>\n",
       "      <td>9.83596</td>\n",
       "      <td>-32.23</td>\n",
       "      <td>-22.3940</td>\n",
       "      <td>(0-20:679-659)</td>\n",
       "      <td>8.73868</td>\n",
       "      <td>-27.72</td>\n",
       "      <td>-18.98130</td>\n",
       "      <td>(2-20:1403-1385)</td>\n",
       "    </tr>\n",
       "  </tbody>\n",
       "</table>\n",
       "<p>93 rows × 8 columns</p>\n",
       "</div>"
      ],
      "text/plain": [
       "     Accessibility Energy   Hybridization Energy   Interaction Energy  \\\n",
       "0                 6.05604                 -22.72             -16.6640   \n",
       "0                 7.79334                 -26.04             -18.2467   \n",
       "0                 7.85799                 -27.04             -19.1820   \n",
       "0                10.20040                 -27.47             -17.2696   \n",
       "0                 8.39218                 -26.03             -17.6378   \n",
       "..                    ...                    ...                  ...   \n",
       "0                 7.62986                 -25.98             -18.3501   \n",
       "0                10.19040                 -32.04             -21.8496   \n",
       "0                11.44130                 -31.43             -19.9887   \n",
       "0                13.48160                 -31.78             -18.2984   \n",
       "0                 9.83596                 -32.23             -22.3940   \n",
       "\n",
       "           BasePair   Accessibility Energy   Hybridization Energy  \\\n",
       "0   (5-20:677-662)                 5.13185                 -15.65   \n",
       "0   (0-20:642-622)                     NaN                    NaN   \n",
       "0   (0-20:639-619)                 3.44469                 -11.71   \n",
       "0   (0-20:636-616)                     NaN                    NaN   \n",
       "0   (0-20:633-613)                     NaN                    NaN   \n",
       "..              ...                    ...                    ...   \n",
       "0   (0-20:645-625)                     NaN                    NaN   \n",
       "0     (0-20:66-46)                     NaN                    NaN   \n",
       "0   (0-20:685-665)                     NaN                    NaN   \n",
       "0   (0-20:682-662)                     NaN                    NaN   \n",
       "0   (0-20:679-659)                 8.73868                 -27.72   \n",
       "\n",
       "     Interaction Energy           BasePair  \n",
       "0             -10.51820    (4-20:672-659)   \n",
       "0                   NaN                NaN  \n",
       "0              -8.26531  (2-17:1315-1303)   \n",
       "0                   NaN                NaN  \n",
       "0                   NaN                NaN  \n",
       "..                  ...                ...  \n",
       "0                   NaN                NaN  \n",
       "0                   NaN                NaN  \n",
       "0                   NaN                NaN  \n",
       "0                   NaN                NaN  \n",
       "0             -18.98130  (2-20:1403-1385)   \n",
       "\n",
       "[93 rows x 8 columns]"
      ]
     },
     "execution_count": 14,
     "metadata": {},
     "output_type": "execute_result"
    }
   ],
   "source": [
    "useful_RIblast"
   ]
  },
  {
   "cell_type": "code",
   "execution_count": 13,
   "id": "52e13d7e-fd93-4ec3-ad2b-67a1202e9013",
   "metadata": {
    "execution": {
     "iopub.execute_input": "2022-07-26T18:04:45.278201Z",
     "iopub.status.busy": "2022-07-26T18:04:45.277636Z",
     "iopub.status.idle": "2022-07-26T18:04:45.289731Z",
     "shell.execute_reply": "2022-07-26T18:04:45.288829Z",
     "shell.execute_reply.started": "2022-07-26T18:04:45.278170Z"
    },
    "tags": []
   },
   "outputs": [
    {
     "data": {
      "text/plain": [
       "-22.72"
      ]
     },
     "execution_count": 13,
     "metadata": {},
     "output_type": "execute_result"
    }
   ],
   "source": [
    "max(useful_RIblast.iloc[:, 1])"
   ]
  },
  {
   "cell_type": "code",
   "execution_count": null,
   "id": "6c3ade5e-f46c-483d-9842-77f012525017",
   "metadata": {
    "tags": []
   },
   "outputs": [],
   "source": [
    "min(useful_RIblast.iloc[:, 1])"
   ]
  },
  {
   "cell_type": "code",
   "execution_count": null,
   "id": "b9adfac7-8583-45a3-8816-a179011eff0d",
   "metadata": {
    "tags": []
   },
   "outputs": [],
   "source": [
    "min(useful_RIblast.iloc[:, 2])"
   ]
  },
  {
   "cell_type": "code",
   "execution_count": null,
   "id": "af2fa670-18fa-4c37-a2c4-227983050a84",
   "metadata": {
    "tags": []
   },
   "outputs": [],
   "source": [
    "max(useful_RIblast.iloc[:, 2])"
   ]
  },
  {
   "cell_type": "code",
   "execution_count": null,
   "id": "b2832a09-2174-4abf-8be5-8c6552f01bff",
   "metadata": {},
   "outputs": [],
   "source": []
  },
  {
   "cell_type": "code",
   "execution_count": null,
   "id": "4a076f62-a2df-4707-852f-dc2673f85d87",
   "metadata": {
    "tags": []
   },
   "outputs": [],
   "source": [
    "path_queryDir = \"/Users/kbw29/Dropbox/Research/Neurobiology_PhD/Huang/Projects/CellReadR/Code/CellREADR/Output/sesRNAs\""
   ]
  },
  {
   "cell_type": "code",
   "execution_count": null,
   "id": "16f18e4a-5a21-41e2-8f90-ad8cfd34ccd0",
   "metadata": {},
   "outputs": [],
   "source": []
  },
  {
   "cell_type": "code",
   "execution_count": null,
   "id": "bb75855d-2e29-4907-a13f-96a104c80e79",
   "metadata": {},
   "outputs": [],
   "source": []
  },
  {
   "cell_type": "code",
   "execution_count": null,
   "id": "d3aa20f5-1229-4be2-8b04-8e7c4afe1761",
   "metadata": {},
   "outputs": [],
   "source": []
  },
  {
   "cell_type": "code",
   "execution_count": null,
   "id": "44cafe60-21eb-4fac-9c1d-1116a696d01d",
   "metadata": {},
   "outputs": [],
   "source": [
    "utility.clear_outputs()"
   ]
  },
  {
   "cell_type": "code",
   "execution_count": null,
   "id": "2cd346af-860b-4efd-89c8-693eb258318f",
   "metadata": {},
   "outputs": [],
   "source": []
  },
  {
   "cell_type": "code",
   "execution_count": null,
   "id": "14f48b50-2a77-43ae-a1c4-0bf026f15b7e",
   "metadata": {},
   "outputs": [],
   "source": []
  },
  {
   "cell_type": "code",
   "execution_count": null,
   "id": "9b352c65-f7dc-4192-88dc-5c77ab1ca4d4",
   "metadata": {},
   "outputs": [],
   "source": []
  },
  {
   "cell_type": "code",
   "execution_count": null,
   "id": "275b134b-0ad5-4c1d-a78d-02f16f6d7bdd",
   "metadata": {},
   "outputs": [],
   "source": []
  },
  {
   "cell_type": "code",
   "execution_count": null,
   "id": "3d1a6b3e-1e60-4ca2-8355-94fcc7430f80",
   "metadata": {},
   "outputs": [],
   "source": []
  },
  {
   "cell_type": "code",
   "execution_count": null,
   "id": "64b5f3d5-4d48-4275-a444-6e85e6b15113",
   "metadata": {},
   "outputs": [],
   "source": []
  },
  {
   "cell_type": "code",
   "execution_count": null,
   "id": "4ec84a03-cc32-4d93-882a-192bb4171128",
   "metadata": {},
   "outputs": [],
   "source": []
  },
  {
   "cell_type": "code",
   "execution_count": null,
   "id": "7fc130ff-287f-45ad-8ccb-10c23e168b60",
   "metadata": {},
   "outputs": [],
   "source": []
  },
  {
   "cell_type": "code",
   "execution_count": null,
   "id": "f26e2f03-41fd-4261-8223-b0d0e8a42fb2",
   "metadata": {},
   "outputs": [],
   "source": []
  },
  {
   "cell_type": "code",
   "execution_count": null,
   "id": "b141bbe0-0338-4cf7-afd7-576510e8ac37",
   "metadata": {},
   "outputs": [],
   "source": []
  }
 ],
 "metadata": {
  "kernelspec": {
   "display_name": "alCellREADR",
   "language": "python",
   "name": "alcellreadr"
  },
  "language_info": {
   "codemirror_mode": {
    "name": "ipython",
    "version": 3
   },
   "file_extension": ".py",
   "mimetype": "text/x-python",
   "name": "python",
   "nbconvert_exporter": "python",
   "pygments_lexer": "ipython3",
   "version": "3.10.4"
  }
 },
 "nbformat": 4,
 "nbformat_minor": 5
}
