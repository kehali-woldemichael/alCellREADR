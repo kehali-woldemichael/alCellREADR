{
 "cells": [
  {
   "cell_type": "code",
   "execution_count": 1,
   "id": "807d3a70-8518-42ca-a211-74a5b0974344",
   "metadata": {
    "execution": {
     "iopub.execute_input": "2022-07-24T15:38:14.171175Z",
     "iopub.status.busy": "2022-07-24T15:38:14.170846Z",
     "iopub.status.idle": "2022-07-24T15:38:14.423404Z",
     "shell.execute_reply": "2022-07-24T15:38:14.422553Z",
     "shell.execute_reply.started": "2022-07-24T15:38:14.171111Z"
    },
    "tags": []
   },
   "outputs": [],
   "source": [
    "import sys\n",
    "import os\n",
    "from itertools import islice\n",
    "import logging\n",
    "\n",
    "import pandas as pd\n",
    "import numpy as np\n",
    "from collections import OrderedDict"
   ]
  },
  {
   "cell_type": "code",
   "execution_count": 2,
   "id": "2ed2c9ef-dae8-4794-967c-9b04830d0e6a",
   "metadata": {
    "execution": {
     "iopub.execute_input": "2022-07-24T15:38:14.432823Z",
     "iopub.status.busy": "2022-07-24T15:38:14.427539Z",
     "iopub.status.idle": "2022-07-24T15:38:14.487982Z",
     "shell.execute_reply": "2022-07-24T15:38:14.487620Z",
     "shell.execute_reply.started": "2022-07-24T15:38:14.432784Z"
    },
    "tags": []
   },
   "outputs": [],
   "source": [
    "from Bio import SeqIO\n",
    "from Bio.Seq import Seq \n",
    "from Bio.SeqRecord import SeqRecord"
   ]
  },
  {
   "cell_type": "code",
   "execution_count": 3,
   "id": "44310d4a-58e5-4b16-bd3c-d608745170c3",
   "metadata": {
    "execution": {
     "iopub.execute_input": "2022-07-24T15:38:14.488540Z",
     "iopub.status.busy": "2022-07-24T15:38:14.488446Z",
     "iopub.status.idle": "2022-07-24T15:38:14.492549Z",
     "shell.execute_reply": "2022-07-24T15:38:14.492217Z",
     "shell.execute_reply.started": "2022-07-24T15:38:14.488531Z"
    },
    "tags": []
   },
   "outputs": [],
   "source": [
    "sys.path.append('/Users/kbw29/Dropbox/Research/Neurobiology_PhD/Huang/Projects/CellReadR/Code/alCellREADR')\n",
    "from py_modules import *"
   ]
  },
  {
   "cell_type": "code",
   "execution_count": null,
   "id": "88bc8446-6c89-4817-b2da-a610b034c0d8",
   "metadata": {},
   "outputs": [],
   "source": []
  },
  {
   "cell_type": "code",
   "execution_count": null,
   "id": "4f2bb08b-4522-496c-bcee-8e059aaebe89",
   "metadata": {},
   "outputs": [],
   "source": []
  },
  {
   "cell_type": "code",
   "execution_count": null,
   "id": "dfc51e6b-ad5b-41c1-8e77-b4bbf52280d7",
   "metadata": {},
   "outputs": [],
   "source": []
  },
  {
   "cell_type": "code",
   "execution_count": 4,
   "id": "60c80ca7-5110-47c4-a4c2-3e2d851d41de",
   "metadata": {
    "execution": {
     "iopub.execute_input": "2022-07-24T15:38:14.493903Z",
     "iopub.status.busy": "2022-07-24T15:38:14.493771Z",
     "iopub.status.idle": "2022-07-24T15:38:14.496345Z",
     "shell.execute_reply": "2022-07-24T15:38:14.495846Z",
     "shell.execute_reply.started": "2022-07-24T15:38:14.493893Z"
    },
    "tags": []
   },
   "outputs": [],
   "source": [
    "tdT_Seq = \"atggtgagcaagggcgaggaggtcatcaaagagttcatgcgcttcaaggtgcgcatggagggctccatgaacggccacgagttcgagatcgagggcgagggcgagggccgcccctacgagggcacccagaccgccaagctgaaggtgaccaagggcggccccctgcccttcgcctgggacatcctgtccccccagttcatgtacggctccaaggcgtacgtgaagcaccccgccgacatccccgattacaagaagctgtccttccccgagggcttcaagtgggagcgcgtgatgaacttcgaggacggcggtctggtgaccgtgacccaggactcctccctgcaggacggcacgctgatctacaaggtgaagatgcgcggcaccaacttcccccccgacggccccgtaatgcagaagaagaccatgggctgggaggcctccaccgagcgcctgtacccccgcgacggcgtgctgaagggcgagatccaccaggccctgaagctgaaggacggcggccactacctggtggagttcaagaccatctacatggccaagaagcccgtgcaactgcccggctactactacgtggacaccaagctggacatcacctcccacaacgaggactacaccatcgtggaacagtacgagcgctccgagggccgccaccacctgttcctggggcatggcaccggcagcaccggcagcggcagctccggcaccgcctcctccgaggacaacaacatggccgtcatcaaagagttcatgcgcttcaaggtgcgcatggagggctccatgaacggccacgagttcgagatcgagggcgagggcgagggccgcccctacgagggcacccagaccgccaagctgaaggtgaccaagggcggccccctgcccttcgcctgggacatcctgtccccccagttcatgtacggctccaaggcgtacgtgaagcaccccgccgacatccccgattacaagaagctgtccttccccgagggcttcaagtgggagcgcgtgatgaacttcgaggacggcggtctggtgaccgtgacccaggactcctccctgcaggacggcacgctgatctacaaggtgaagatgcgcggcaccaacttcccccccgacggccccgtaatgcagaagaagaccatgggctgggaggcctccaccgagcgcctgtacccccgcgacggcgtgctgaagggcgagatccaccaggccctgaagctgaaggacggcggccactacctggtggagttcaagaccatctacatggccaagaagcccgtgcaactgcccggctactactacgtggacaccaagctggacatcacctcccacaacgaggactacaccatcgtggaacagtacgagcgctccgagggccgccaccacctgttcctgtacggcatggacgagctgtacaagtaa\""
   ]
  },
  {
   "cell_type": "code",
   "execution_count": 5,
   "id": "a10a745c-1459-418e-9c3f-e7838003751a",
   "metadata": {
    "execution": {
     "iopub.execute_input": "2022-07-24T15:38:14.496982Z",
     "iopub.status.busy": "2022-07-24T15:38:14.496858Z",
     "iopub.status.idle": "2022-07-24T15:38:14.499338Z",
     "shell.execute_reply": "2022-07-24T15:38:14.498977Z",
     "shell.execute_reply.started": "2022-07-24T15:38:14.496973Z"
    },
    "tags": []
   },
   "outputs": [],
   "source": [
    "# RIblast requires sequences in upper case \n",
    "targetSeq = Seq(tdT_Seq.upper())\n",
    "templateSeq = targetSeq.reverse_complement()"
   ]
  },
  {
   "cell_type": "code",
   "execution_count": 6,
   "id": "95297c2d-366c-4d5d-82c8-7b2869fa4d58",
   "metadata": {
    "execution": {
     "iopub.execute_input": "2022-07-24T15:38:14.794580Z",
     "iopub.status.busy": "2022-07-24T15:38:14.794160Z",
     "iopub.status.idle": "2022-07-24T15:38:14.806354Z",
     "shell.execute_reply": "2022-07-24T15:38:14.805410Z",
     "shell.execute_reply.started": "2022-07-24T15:38:14.794551Z"
    },
    "tags": []
   },
   "outputs": [],
   "source": [
    "# generator function \n",
    "def sliceSeq(seq, K):\n",
    "    itr = iter(seq)\n",
    "    res = tuple(islice(itr, K))\n",
    "    if len(res) == K:\n",
    "        yield res    \n",
    "    for ele in itr:\n",
    "        res = res[1:] + (ele,)\n",
    "        yield res"
   ]
  },
  {
   "cell_type": "code",
   "execution_count": 7,
   "id": "e633391f-8da0-489e-aecc-e1e3b03111dc",
   "metadata": {
    "execution": {
     "iopub.execute_input": "2022-07-24T15:38:15.064995Z",
     "iopub.status.busy": "2022-07-24T15:38:15.063866Z",
     "iopub.status.idle": "2022-07-24T15:38:15.073332Z",
     "shell.execute_reply": "2022-07-24T15:38:15.072563Z",
     "shell.execute_reply.started": "2022-07-24T15:38:15.064959Z"
    },
    "tags": []
   },
   "outputs": [],
   "source": [
    "def screenSD(template):\n",
    "    # Add a's as padding until divisible by 21\n",
    "    while (len(template) % 21) != 0: template = template + \"a\"\n",
    "    # calling generator function \n",
    "    res = [Seq(\"\".join(ele)) for ele in sliceSeq(template, 21)] \n",
    "    # Filtered for stop and start codons ... and containing \n",
    "    return [chunk for chunk in res if (len(chunk.translate(to_stop = True)) == 5) & (\"M\" not in chunk.translate(to_stop = True)) & (\"W\" in chunk.translate())]"
   ]
  },
  {
   "cell_type": "code",
   "execution_count": 8,
   "id": "d2bbe132-db14-407a-b2a8-4f9b39dcea75",
   "metadata": {
    "execution": {
     "iopub.execute_input": "2022-07-24T15:38:15.471269Z",
     "iopub.status.busy": "2022-07-24T15:38:15.466198Z",
     "iopub.status.idle": "2022-07-24T15:38:15.547695Z",
     "shell.execute_reply": "2022-07-24T15:38:15.547311Z",
     "shell.execute_reply.started": "2022-07-24T15:38:15.471223Z"
    },
    "tags": []
   },
   "outputs": [
    {
     "data": {
      "text/plain": [
       "[Seq('CCATGTAGATGGTCTTGAACT'),\n",
       " Seq('TTGAACTCCACCAGGTAGTGG'),\n",
       " Seq('CCTTGGAGCCGTACATGAACT'),\n",
       " Seq('GTCTGGGTGCCCTCGTAGGGG')]"
      ]
     },
     "execution_count": 8,
     "metadata": {},
     "output_type": "execute_result"
    }
   ],
   "source": [
    "# Removes duplicates ... mostly to deal with repeats \n",
    "sd_filtered = list(OrderedDict.fromkeys(screenSD(templateSeq)))\n",
    "sd_filtered"
   ]
  },
  {
   "cell_type": "code",
   "execution_count": 9,
   "id": "1dcd36cc-aa61-4a23-ab1f-691d4f994b0b",
   "metadata": {
    "execution": {
     "iopub.execute_input": "2022-07-24T15:38:18.326884Z",
     "iopub.status.busy": "2022-07-24T15:38:18.326152Z",
     "iopub.status.idle": "2022-07-24T15:38:19.183392Z",
     "shell.execute_reply": "2022-07-24T15:38:19.183077Z",
     "shell.execute_reply.started": "2022-07-24T15:38:18.326849Z"
    }
   },
   "outputs": [
    {
     "name": "stdout",
     "output_type": "stream",
     "text": [
      "RIblast ris mode has started.\n",
      "Rna interaction search of query:test_sd For testing sd binding to target has started.\n",
      "Rna interaction search of query:test_sd For testing sd binding to target has finished.\n",
      "RIblast ris mode has finished.\n",
      "RIblast ris mode has started.\n",
      "Rna interaction search of query:test_sd For testing sd binding to target has started.\n",
      "Rna interaction search of query:test_sd For testing sd binding to target has finished.\n",
      "RIblast ris mode has finished.\n",
      "RIblast ris mode has started.\n",
      "Rna interaction search of query:test_sd For testing sd binding to target has started.\n",
      "Rna interaction search of query:test_sd For testing sd binding to target has finished.\n",
      "RIblast ris mode has finished.\n",
      "RIblast ris mode has started.\n",
      "Rna interaction search of query:test_sd For testing sd binding to target has started.\n",
      "Rna interaction search of query:test_sd For testing sd binding to target has finished.\n",
      "RIblast ris mode has finished.\n"
     ]
    }
   ],
   "source": [
    "useful_RIblast = higher_order.output_RIblast(targetSeq, sd_filtered)"
   ]
  },
  {
   "cell_type": "code",
   "execution_count": 10,
   "id": "52e13d7e-fd93-4ec3-ad2b-67a1202e9013",
   "metadata": {
    "execution": {
     "iopub.execute_input": "2022-07-24T15:38:19.184281Z",
     "iopub.status.busy": "2022-07-24T15:38:19.184180Z",
     "iopub.status.idle": "2022-07-24T15:38:19.190106Z",
     "shell.execute_reply": "2022-07-24T15:38:19.189734Z",
     "shell.execute_reply.started": "2022-07-24T15:38:19.184272Z"
    }
   },
   "outputs": [
    {
     "data": {
      "text/html": [
       "<div>\n",
       "<style scoped>\n",
       "    .dataframe tbody tr th:only-of-type {\n",
       "        vertical-align: middle;\n",
       "    }\n",
       "\n",
       "    .dataframe tbody tr th {\n",
       "        vertical-align: top;\n",
       "    }\n",
       "\n",
       "    .dataframe thead th {\n",
       "        text-align: right;\n",
       "    }\n",
       "</style>\n",
       "<table border=\"1\" class=\"dataframe\">\n",
       "  <thead>\n",
       "    <tr style=\"text-align: right;\">\n",
       "      <th></th>\n",
       "      <th>Accessibility Energy</th>\n",
       "      <th>Hybridization Energy</th>\n",
       "      <th>Interaction Energy</th>\n",
       "      <th>BasePair</th>\n",
       "      <th>Accessibility Energy</th>\n",
       "      <th>Hybridization Energy</th>\n",
       "      <th>Interaction Energy</th>\n",
       "      <th>BasePair</th>\n",
       "    </tr>\n",
       "  </thead>\n",
       "  <tbody>\n",
       "    <tr>\n",
       "      <th>0</th>\n",
       "      <td>7.18530</td>\n",
       "      <td>-24.98</td>\n",
       "      <td>-17.7947</td>\n",
       "      <td>(0-20:549-529)</td>\n",
       "      <td>NaN</td>\n",
       "      <td>NaN</td>\n",
       "      <td>NaN</td>\n",
       "      <td>NaN</td>\n",
       "    </tr>\n",
       "    <tr>\n",
       "      <th>0</th>\n",
       "      <td>13.03000</td>\n",
       "      <td>-27.85</td>\n",
       "      <td>-14.8200</td>\n",
       "      <td>(0-20:535-515)</td>\n",
       "      <td>NaN</td>\n",
       "      <td>NaN</td>\n",
       "      <td>NaN</td>\n",
       "      <td>NaN</td>\n",
       "    </tr>\n",
       "    <tr>\n",
       "      <th>0</th>\n",
       "      <td>7.47055</td>\n",
       "      <td>-27.04</td>\n",
       "      <td>-19.5695</td>\n",
       "      <td>(0-20:939-919)</td>\n",
       "      <td>7.47496</td>\n",
       "      <td>-27.04</td>\n",
       "      <td>-19.565</td>\n",
       "      <td>(0-20:213-193)</td>\n",
       "    </tr>\n",
       "    <tr>\n",
       "      <th>0</th>\n",
       "      <td>14.22830</td>\n",
       "      <td>-31.69</td>\n",
       "      <td>-17.4617</td>\n",
       "      <td>(0-20:130-110)</td>\n",
       "      <td>NaN</td>\n",
       "      <td>NaN</td>\n",
       "      <td>NaN</td>\n",
       "      <td>NaN</td>\n",
       "    </tr>\n",
       "  </tbody>\n",
       "</table>\n",
       "</div>"
      ],
      "text/plain": [
       "    Accessibility Energy   Hybridization Energy   Interaction Energy  \\\n",
       "0                7.18530                 -24.98             -17.7947   \n",
       "0               13.03000                 -27.85             -14.8200   \n",
       "0                7.47055                 -27.04             -19.5695   \n",
       "0               14.22830                 -31.69             -17.4617   \n",
       "\n",
       "          BasePair   Accessibility Energy   Hybridization Energy  \\\n",
       "0  (0-20:549-529)                     NaN                    NaN   \n",
       "0  (0-20:535-515)                     NaN                    NaN   \n",
       "0  (0-20:939-919)                 7.47496                 -27.04   \n",
       "0  (0-20:130-110)                     NaN                    NaN   \n",
       "\n",
       "    Interaction Energy         BasePair  \n",
       "0                  NaN              NaN  \n",
       "0                  NaN              NaN  \n",
       "0              -19.565  (0-20:213-193)   \n",
       "0                  NaN              NaN  "
      ]
     },
     "execution_count": 10,
     "metadata": {},
     "output_type": "execute_result"
    }
   ],
   "source": [
    "useful_RIblast"
   ]
  },
  {
   "cell_type": "code",
   "execution_count": null,
   "id": "f65a15d5-1c3d-4158-80c7-8b5c6cb86d95",
   "metadata": {},
   "outputs": [],
   "source": []
  },
  {
   "cell_type": "code",
   "execution_count": null,
   "id": "a5571e7f-858e-49cb-a9c3-dbcd7a8fecd2",
   "metadata": {},
   "outputs": [],
   "source": []
  },
  {
   "cell_type": "code",
   "execution_count": null,
   "id": "846f112a-9d36-4969-aa1c-8d830dc79b10",
   "metadata": {},
   "outputs": [],
   "source": []
  },
  {
   "cell_type": "code",
   "execution_count": null,
   "id": "7ed8bd5c-3c3e-46ad-8d71-8c3970b0608a",
   "metadata": {},
   "outputs": [],
   "source": []
  },
  {
   "cell_type": "code",
   "execution_count": null,
   "id": "16f18e4a-5a21-41e2-8f90-ad8cfd34ccd0",
   "metadata": {},
   "outputs": [],
   "source": []
  },
  {
   "cell_type": "code",
   "execution_count": null,
   "id": "44cafe60-21eb-4fac-9c1d-1116a696d01d",
   "metadata": {},
   "outputs": [],
   "source": []
  },
  {
   "cell_type": "code",
   "execution_count": null,
   "id": "2cd346af-860b-4efd-89c8-693eb258318f",
   "metadata": {},
   "outputs": [],
   "source": []
  },
  {
   "cell_type": "code",
   "execution_count": null,
   "id": "14f48b50-2a77-43ae-a1c4-0bf026f15b7e",
   "metadata": {},
   "outputs": [],
   "source": []
  },
  {
   "cell_type": "code",
   "execution_count": null,
   "id": "9b352c65-f7dc-4192-88dc-5c77ab1ca4d4",
   "metadata": {},
   "outputs": [],
   "source": []
  },
  {
   "cell_type": "code",
   "execution_count": null,
   "id": "275b134b-0ad5-4c1d-a78d-02f16f6d7bdd",
   "metadata": {},
   "outputs": [],
   "source": []
  },
  {
   "cell_type": "code",
   "execution_count": null,
   "id": "3d1a6b3e-1e60-4ca2-8355-94fcc7430f80",
   "metadata": {},
   "outputs": [],
   "source": []
  },
  {
   "cell_type": "code",
   "execution_count": null,
   "id": "64b5f3d5-4d48-4275-a444-6e85e6b15113",
   "metadata": {},
   "outputs": [],
   "source": []
  },
  {
   "cell_type": "code",
   "execution_count": null,
   "id": "4ec84a03-cc32-4d93-882a-192bb4171128",
   "metadata": {},
   "outputs": [],
   "source": []
  },
  {
   "cell_type": "code",
   "execution_count": null,
   "id": "7fc130ff-287f-45ad-8ccb-10c23e168b60",
   "metadata": {},
   "outputs": [],
   "source": []
  },
  {
   "cell_type": "code",
   "execution_count": null,
   "id": "f26e2f03-41fd-4261-8223-b0d0e8a42fb2",
   "metadata": {},
   "outputs": [],
   "source": []
  },
  {
   "cell_type": "code",
   "execution_count": null,
   "id": "b141bbe0-0338-4cf7-afd7-576510e8ac37",
   "metadata": {},
   "outputs": [],
   "source": []
  }
 ],
 "metadata": {
  "kernelspec": {
   "display_name": "alCellREADR",
   "language": "python",
   "name": "alcellreadr"
  },
  "language_info": {
   "codemirror_mode": {
    "name": "ipython",
    "version": 3
   },
   "file_extension": ".py",
   "mimetype": "text/x-python",
   "name": "python",
   "nbconvert_exporter": "python",
   "pygments_lexer": "ipython3",
   "version": "3.10.4"
  }
 },
 "nbformat": 4,
 "nbformat_minor": 5
}
