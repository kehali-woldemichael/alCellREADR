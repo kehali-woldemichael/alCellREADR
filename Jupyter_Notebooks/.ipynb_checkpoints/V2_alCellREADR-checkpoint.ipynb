{
 "cells": [
  {
   "cell_type": "code",
   "execution_count": 1,
   "id": "807d3a70-8518-42ca-a211-74a5b0974344",
   "metadata": {
    "execution": {
     "iopub.execute_input": "2022-07-22T22:08:07.412954Z",
     "iopub.status.busy": "2022-07-22T22:08:07.412336Z",
     "iopub.status.idle": "2022-07-22T22:08:07.692346Z",
     "shell.execute_reply": "2022-07-22T22:08:07.691294Z",
     "shell.execute_reply.started": "2022-07-22T22:08:07.412903Z"
    },
    "tags": []
   },
   "outputs": [],
   "source": [
    "import sys\n",
    "import os\n",
    "from itertools import islice\n",
    "\n",
    "import pandas as pd\n",
    "import numpy as np"
   ]
  },
  {
   "cell_type": "code",
   "execution_count": 2,
   "id": "2ed2c9ef-dae8-4794-967c-9b04830d0e6a",
   "metadata": {
    "execution": {
     "iopub.execute_input": "2022-07-22T22:08:07.698290Z",
     "iopub.status.busy": "2022-07-22T22:08:07.693907Z",
     "iopub.status.idle": "2022-07-22T22:08:07.743641Z",
     "shell.execute_reply": "2022-07-22T22:08:07.743330Z",
     "shell.execute_reply.started": "2022-07-22T22:08:07.698239Z"
    },
    "tags": []
   },
   "outputs": [],
   "source": [
    "from Bio import SeqIO\n",
    "from Bio.Seq import Seq \n",
    "from Bio.SeqRecord import SeqRecord"
   ]
  },
  {
   "cell_type": "code",
   "execution_count": 3,
   "id": "44310d4a-58e5-4b16-bd3c-d608745170c3",
   "metadata": {
    "execution": {
     "iopub.execute_input": "2022-07-22T22:08:08.734151Z",
     "iopub.status.busy": "2022-07-22T22:08:08.733665Z",
     "iopub.status.idle": "2022-07-22T22:08:08.744975Z",
     "shell.execute_reply": "2022-07-22T22:08:08.744335Z",
     "shell.execute_reply.started": "2022-07-22T22:08:08.734122Z"
    }
   },
   "outputs": [],
   "source": [
    "sys.path.append('/Users/kbw29/Dropbox/Research/Neurobiology_PhD/Huang/Projects/CellReadR/Code/alCellREADR')\n",
    "from py_modules import *"
   ]
  },
  {
   "cell_type": "code",
   "execution_count": null,
   "id": "4f2bb08b-4522-496c-bcee-8e059aaebe89",
   "metadata": {},
   "outputs": [],
   "source": []
  },
  {
   "cell_type": "code",
   "execution_count": null,
   "id": "dfc51e6b-ad5b-41c1-8e77-b4bbf52280d7",
   "metadata": {},
   "outputs": [],
   "source": []
  },
  {
   "cell_type": "code",
   "execution_count": 4,
   "id": "60c80ca7-5110-47c4-a4c2-3e2d851d41de",
   "metadata": {
    "execution": {
     "iopub.execute_input": "2022-07-22T22:08:10.083370Z",
     "iopub.status.busy": "2022-07-22T22:08:10.082907Z",
     "iopub.status.idle": "2022-07-22T22:08:10.107240Z",
     "shell.execute_reply": "2022-07-22T22:08:10.106661Z",
     "shell.execute_reply.started": "2022-07-22T22:08:10.083341Z"
    },
    "tags": []
   },
   "outputs": [],
   "source": [
    "tdT_Seq = \"atggtgagcaagggcgaggaggtcatcaaagagttcatgcgcttcaaggtgcgcatggagggctccatgaacggccacgagttcgagatcgagggcgagggcgagggccgcccctacgagggcacccagaccgccaagctgaaggtgaccaagggcggccccctgcccttcgcctgggacatcctgtccccccagttcatgtacggctccaaggcgtacgtgaagcaccccgccgacatccccgattacaagaagctgtccttccccgagggcttcaagtgggagcgcgtgatgaacttcgaggacggcggtctggtgaccgtgacccaggactcctccctgcaggacggcacgctgatctacaaggtgaagatgcgcggcaccaacttcccccccgacggccccgtaatgcagaagaagaccatgggctgggaggcctccaccgagcgcctgtacccccgcgacggcgtgctgaagggcgagatccaccaggccctgaagctgaaggacggcggccactacctggtggagttcaagaccatctacatggccaagaagcccgtgcaactgcccggctactactacgtggacaccaagctggacatcacctcccacaacgaggactacaccatcgtggaacagtacgagcgctccgagggccgccaccacctgttcctggggcatggcaccggcagcaccggcagcggcagctccggcaccgcctcctccgaggacaacaacatggccgtcatcaaagagttcatgcgcttcaaggtgcgcatggagggctccatgaacggccacgagttcgagatcgagggcgagggcgagggccgcccctacgagggcacccagaccgccaagctgaaggtgaccaagggcggccccctgcccttcgcctgggacatcctgtccccccagttcatgtacggctccaaggcgtacgtgaagcaccccgccgacatccccgattacaagaagctgtccttccccgagggcttcaagtgggagcgcgtgatgaacttcgaggacggcggtctggtgaccgtgacccaggactcctccctgcaggacggcacgctgatctacaaggtgaagatgcgcggcaccaacttcccccccgacggccccgtaatgcagaagaagaccatgggctgggaggcctccaccgagcgcctgtacccccgcgacggcgtgctgaagggcgagatccaccaggccctgaagctgaaggacggcggccactacctggtggagttcaagaccatctacatggccaagaagcccgtgcaactgcccggctactactacgtggacaccaagctggacatcacctcccacaacgaggactacaccatcgtggaacagtacgagcgctccgagggccgccaccacctgttcctgtacggcatggacgagctgtacaagtaa\""
   ]
  },
  {
   "cell_type": "code",
   "execution_count": 5,
   "id": "a10a745c-1459-418e-9c3f-e7838003751a",
   "metadata": {
    "execution": {
     "iopub.execute_input": "2022-07-22T22:08:10.424976Z",
     "iopub.status.busy": "2022-07-22T22:08:10.424009Z",
     "iopub.status.idle": "2022-07-22T22:08:10.437113Z",
     "shell.execute_reply": "2022-07-22T22:08:10.436379Z",
     "shell.execute_reply.started": "2022-07-22T22:08:10.424928Z"
    },
    "tags": []
   },
   "outputs": [],
   "source": [
    "targetSeq = Seq(tdT_Seq)\n",
    "templateSeq = targetSeq.reverse_complement()"
   ]
  },
  {
   "cell_type": "code",
   "execution_count": 6,
   "id": "95297c2d-366c-4d5d-82c8-7b2869fa4d58",
   "metadata": {
    "execution": {
     "iopub.execute_input": "2022-07-22T22:08:10.949163Z",
     "iopub.status.busy": "2022-07-22T22:08:10.948198Z",
     "iopub.status.idle": "2022-07-22T22:08:10.966995Z",
     "shell.execute_reply": "2022-07-22T22:08:10.966000Z",
     "shell.execute_reply.started": "2022-07-22T22:08:10.949128Z"
    }
   },
   "outputs": [],
   "source": [
    "# generator function \n",
    "def sliceSeq(seq, K):\n",
    "    itr = iter(seq)\n",
    "    res = tuple(islice(itr, K))\n",
    "    if len(res) == K:\n",
    "        yield res    \n",
    "    for ele in itr:\n",
    "        res = res[1:] + (ele,)\n",
    "        yield res"
   ]
  },
  {
   "cell_type": "code",
   "execution_count": 7,
   "id": "e633391f-8da0-489e-aecc-e1e3b03111dc",
   "metadata": {
    "execution": {
     "iopub.execute_input": "2022-07-22T22:08:11.567041Z",
     "iopub.status.busy": "2022-07-22T22:08:11.566406Z",
     "iopub.status.idle": "2022-07-22T22:08:11.584458Z",
     "shell.execute_reply": "2022-07-22T22:08:11.581718Z",
     "shell.execute_reply.started": "2022-07-22T22:08:11.567002Z"
    },
    "tags": []
   },
   "outputs": [],
   "source": [
    "def screenSD(template):\n",
    "    # Add a's as padding until divisible by 21\n",
    "    while (len(template) % 21) != 0: template = template + \"a\"\n",
    "    # calling generator function \n",
    "    res = [Seq(\"\".join(ele)) for ele in sliceSeq(template, 21)] \n",
    "    # Filtered for stop and start codons ... and containing \n",
    "    return [chunk for chunk in res if (len(chunk.translate(to_stop = True)) == 5) & (\"M\" not in chunk.translate(to_stop = True)) & (\"W\" in chunk.translate())]"
   ]
  },
  {
   "cell_type": "code",
   "execution_count": 8,
   "id": "d2bbe132-db14-407a-b2a8-4f9b39dcea75",
   "metadata": {
    "execution": {
     "iopub.execute_input": "2022-07-22T22:08:11.830339Z",
     "iopub.status.busy": "2022-07-22T22:08:11.829820Z",
     "iopub.status.idle": "2022-07-22T22:08:11.897143Z",
     "shell.execute_reply": "2022-07-22T22:08:11.896768Z",
     "shell.execute_reply.started": "2022-07-22T22:08:11.830310Z"
    },
    "tags": []
   },
   "outputs": [
    {
     "data": {
      "text/plain": [
       "[Seq('ccatgtagatggtcttgaact'),\n",
       " Seq('ttgaactccaccaggtagtgg'),\n",
       " Seq('ccttggagccgtacatgaact'),\n",
       " Seq('gtctgggtgccctcgtagggg'),\n",
       " Seq('ccatgtagatggtcttgaact'),\n",
       " Seq('ttgaactccaccaggtagtgg'),\n",
       " Seq('ccttggagccgtacatgaact'),\n",
       " Seq('gtctgggtgccctcgtagggg')]"
      ]
     },
     "execution_count": 8,
     "metadata": {},
     "output_type": "execute_result"
    }
   ],
   "source": [
    "sd_filtered = screenSD(templateSeq)\n",
    "sd_filtered"
   ]
  },
  {
   "cell_type": "code",
   "execution_count": 9,
   "id": "98fba5e2-323c-4227-87f3-13b4e597ef6b",
   "metadata": {
    "execution": {
     "iopub.execute_input": "2022-07-22T22:08:12.015627Z",
     "iopub.status.busy": "2022-07-22T22:08:12.013055Z",
     "iopub.status.idle": "2022-07-22T22:08:12.021042Z",
     "shell.execute_reply": "2022-07-22T22:08:12.020156Z",
     "shell.execute_reply.started": "2022-07-22T22:08:12.015581Z"
    },
    "tags": []
   },
   "outputs": [],
   "source": [
    "path_outputDir = \"/Users/kbw29/Dropbox/Research/Neurobiology_PhD/Huang/Projects/CellReadR/Code/alCellREADR/Test\""
   ]
  },
  {
   "cell_type": "code",
   "execution_count": 43,
   "id": "c3bc4879-d85e-4176-93cd-2161a5151689",
   "metadata": {
    "execution": {
     "iopub.execute_input": "2022-07-22T22:20:51.488141Z",
     "iopub.status.busy": "2022-07-22T22:20:51.487273Z",
     "iopub.status.idle": "2022-07-22T22:20:51.506335Z",
     "shell.execute_reply": "2022-07-22T22:20:51.500274Z",
     "shell.execute_reply.started": "2022-07-22T22:20:51.488094Z"
    },
    "tags": []
   },
   "outputs": [],
   "source": [
    "outputRecord = SeqRecord(targetSeq, id = \"target sequence\", description = \"For testing sd binding to target\")\n",
    "path_targetSeq = f\"{path_outputDir}/db/dbRNA.fasta\"\n",
    "\n",
    "with open(path_targetSeq, \"w\") as output_handle:\n",
    "   SeqIO.write(outputRecord, output_handle, \"fasta\") "
   ]
  },
  {
   "cell_type": "code",
   "execution_count": 44,
   "id": "4bc0c5f9-4f49-4587-99d3-b74af3e756d8",
   "metadata": {
    "execution": {
     "iopub.execute_input": "2022-07-22T22:21:02.764264Z",
     "iopub.status.busy": "2022-07-22T22:21:02.763341Z",
     "iopub.status.idle": "2022-07-22T22:21:02.778429Z",
     "shell.execute_reply": "2022-07-22T22:21:02.777699Z",
     "shell.execute_reply.started": "2022-07-22T22:21:02.764214Z"
    },
    "tags": []
   },
   "outputs": [],
   "source": [
    "for i, sd in enumerate(sd_filtered, start = 1):\n",
    "    outputRecord = SeqRecord(sd, id = \"test_sd\", description = \"For testing sd binding to target\")\n",
    "    path_output_name = f\"{path_outputDir}/query/queryRNA_sd_{i}.fasta\"\n",
    "\n",
    "    with open(path_output_name, \"w\") as output_handle:\n",
    "       SeqIO.write(outputRecord, output_handle, \"fasta\") "
   ]
  },
  {
   "cell_type": "code",
   "execution_count": 45,
   "id": "1d80ee9e-542d-4167-aae1-8fe8f971a3a9",
   "metadata": {
    "execution": {
     "iopub.execute_input": "2022-07-22T22:21:31.282112Z",
     "iopub.status.busy": "2022-07-22T22:21:31.281590Z",
     "iopub.status.idle": "2022-07-22T22:21:31.940760Z",
     "shell.execute_reply": "2022-07-22T22:21:31.940475Z",
     "shell.execute_reply.started": "2022-07-22T22:21:31.282085Z"
    },
    "tags": []
   },
   "outputs": [
    {
     "data": {
      "text/plain": [
       "0"
      ]
     },
     "execution_count": 45,
     "metadata": {},
     "output_type": "execute_result"
    }
   ],
   "source": [
    "# Generating query database\n",
    "commandQuery = f\"RIblast db -i {path_targetSeq} -o {path_outputDir}/output/test_db\"\n",
    "os.system(commandQuery)"
   ]
  },
  {
   "cell_type": "code",
   "execution_count": 46,
   "id": "c035ccc8-6d4a-4c99-802c-cb3aa8e1f2ec",
   "metadata": {
    "execution": {
     "iopub.execute_input": "2022-07-22T22:21:41.148128Z",
     "iopub.status.busy": "2022-07-22T22:21:41.147206Z",
     "iopub.status.idle": "2022-07-22T22:21:41.163070Z",
     "shell.execute_reply": "2022-07-22T22:21:41.162488Z",
     "shell.execute_reply.started": "2022-07-22T22:21:41.148093Z"
    },
    "tags": []
   },
   "outputs": [
    {
     "data": {
      "text/plain": [
       "'/Users/kbw29/Dropbox/Research/Neurobiology_PhD/Huang/Projects/CellReadR/Code/alCellREADR/Test/output/output.csv'"
      ]
     },
     "execution_count": 46,
     "metadata": {},
     "output_type": "execute_result"
    }
   ],
   "source": [
    "# Path and file name for output CSV\n",
    "outputName = f\"{path_outputDir}/output/output.csv\"\n",
    "outputName"
   ]
  },
  {
   "cell_type": "code",
   "execution_count": 47,
   "id": "1ea5e487-a4b8-4506-866d-c6a79280a77b",
   "metadata": {
    "execution": {
     "iopub.execute_input": "2022-07-22T22:21:43.718106Z",
     "iopub.status.busy": "2022-07-22T22:21:43.716745Z",
     "iopub.status.idle": "2022-07-22T22:21:43.731617Z",
     "shell.execute_reply": "2022-07-22T22:21:43.729601Z",
     "shell.execute_reply.started": "2022-07-22T22:21:43.718053Z"
    },
    "tags": []
   },
   "outputs": [],
   "source": [
    "# Generating pd.DataFrame for storing calculated values\n",
    "columns_RIblast = [' Accessibility Energy', ' Hybridization Energy', ' Interaction Energy', ' BasePair',\n",
    "                   ' Accessibility Energy', ' Hybridization Energy', ' Interaction Energy', ' BasePair']\n",
    "useful_RIblast =  pd.DataFrame(columns = columns_RIblast)"
   ]
  },
  {
   "cell_type": "code",
   "execution_count": 50,
   "id": "b77620ef-6cfd-4d2c-9f5d-56b11855f84d",
   "metadata": {
    "execution": {
     "iopub.execute_input": "2022-07-22T22:22:24.458515Z",
     "iopub.status.busy": "2022-07-22T22:22:24.457645Z",
     "iopub.status.idle": "2022-07-22T22:22:24.472766Z",
     "shell.execute_reply": "2022-07-22T22:22:24.471346Z",
     "shell.execute_reply.started": "2022-07-22T22:22:24.458469Z"
    },
    "tags": []
   },
   "outputs": [
    {
     "name": "stdout",
     "output_type": "stream",
     "text": [
      "/Users/kbw29/Dropbox/Research/Neurobiology_PhD/Huang/Projects/CellReadR/Code/alCellREADR/Test/query/queryRNA_sd_1.fasta\n",
      "/Users/kbw29/Dropbox/Research/Neurobiology_PhD/Huang/Projects/CellReadR/Code/alCellREADR/Test/query/queryRNA_sd_2.fasta\n",
      "/Users/kbw29/Dropbox/Research/Neurobiology_PhD/Huang/Projects/CellReadR/Code/alCellREADR/Test/query/queryRNA_sd_3.fasta\n",
      "/Users/kbw29/Dropbox/Research/Neurobiology_PhD/Huang/Projects/CellReadR/Code/alCellREADR/Test/query/queryRNA_sd_4.fasta\n",
      "/Users/kbw29/Dropbox/Research/Neurobiology_PhD/Huang/Projects/CellReadR/Code/alCellREADR/Test/query/queryRNA_sd_5.fasta\n",
      "/Users/kbw29/Dropbox/Research/Neurobiology_PhD/Huang/Projects/CellReadR/Code/alCellREADR/Test/query/queryRNA_sd_6.fasta\n",
      "/Users/kbw29/Dropbox/Research/Neurobiology_PhD/Huang/Projects/CellReadR/Code/alCellREADR/Test/query/queryRNA_sd_7.fasta\n",
      "/Users/kbw29/Dropbox/Research/Neurobiology_PhD/Huang/Projects/CellReadR/Code/alCellREADR/Test/query/queryRNA_sd_8.fasta\n"
     ]
    }
   ],
   "source": [
    "# Iteratively generating calculations for sesRNA-target interaction\n",
    "# Made sure to go through sesRNA files in order\n",
    "for entry in sorted(os.scandir(f\"{path_outputDir}/query\"), key=lambda e: e.name):\n",
    "    print(entry.path)"
   ]
  },
  {
   "cell_type": "code",
   "execution_count": null,
   "id": "ad2c12bc-3c38-4e29-ab05-2bd1e1639f6c",
   "metadata": {},
   "outputs": [],
   "source": []
  },
  {
   "cell_type": "code",
   "execution_count": null,
   "id": "644442a6-0749-48b4-83a5-fe636cb97f24",
   "metadata": {},
   "outputs": [],
   "source": []
  },
  {
   "cell_type": "code",
   "execution_count": null,
   "id": "fc0c4e26-1d5f-424b-9f24-4727eb57a508",
   "metadata": {},
   "outputs": [],
   "source": [
    "\n",
    "\n",
    "\n",
    "    # Path to directory sesRNA files\n",
    "    path_sesRNAs = '/home/user1/Dropbox/Research/Neurobiology_PhD/Huang/Projects/CellReadR/Code/Output/BioPython/Temp'\n",
    "\n",
    "\n",
    "\n",
    "    # Iteratively generating calculations for sesRNA-target interaction\n",
    "    # Made sure to go through sesRNA files in order\n",
    "    for entry in sorted(os.scandir(path_sesRNAs), key=lambda e: e.name):\n",
    "        # Running RIblast calculations\n",
    "        os.system(f\"RIblast ris -i {entry.path} -o {outputName} -d {query_Name}\")\n",
    "        print(entry.path)\n",
    "\n",
    "        # Remove first two lines from CVS to allow for parsing into pandas.Dataframe\n",
    "        os.system(f\"sed -i 1,2d {outputName}\")\n",
    "\n",
    "        outputCSV =  pd.read_csv(outputName, skiprows=[1])\n",
    "        # Sorting by hybirzation energy ... have to have extra white space before column name\n",
    "        sorted_outputCSV = outputCSV.sort_values(' Hybridization Energy')\n",
    "\n",
    "        topHybridizationE = sorted_outputCSV[[' Accessibility Energy', ' Hybridization Energy', ' Interaction Energy', ' BasePair']].iloc[0:1]\n",
    "        secondHybridizationE = sorted_outputCSV[[' Accessibility Energy', ' Hybridization Energy', ' Interaction Energy', ' BasePair']].iloc[1:2]\n",
    "        temp_RIblast_ouput = pd.concat([topHybridizationE.reset_index(drop=True), secondHybridizationE.reset_index(drop=True)], axis = 1)\n",
    "\n",
    "        # Appending calculations for current sesRNA values\n",
    "        useful_RIblast = useful_RIblast.append(temp_RIblast_ouput)\n",
    "\n",
    "        # Clearing csv\n",
    "        os.system(f\"rm -rf {outputName}\")\n",
    "        # Clear BioPython temp fasta file for sesRNA\n",
    "        os.system(f\"rm -rf {entry.path}\")\n",
    "\n",
    "    # Clear RIblast Temp directory\n",
    "    os.system(f\"rm -rf {path_tempRIblast}*\")\n",
    "\n",
    "    # Adding RNA-RNA binding statistics for most favorable interaction to rest of sequence metrics table\n",
    "    metricsTable_higherOrder = pd.concat([sequenceMetrics.reset_index(drop=True), useful_RIblast.reset_index(drop=True).iloc[:, 0:4]], axis = 1)"
   ]
  },
  {
   "cell_type": "code",
   "execution_count": null,
   "id": "a5571e7f-858e-49cb-a9c3-dbcd7a8fecd2",
   "metadata": {},
   "outputs": [],
   "source": []
  },
  {
   "cell_type": "code",
   "execution_count": null,
   "id": "846f112a-9d36-4969-aa1c-8d830dc79b10",
   "metadata": {},
   "outputs": [],
   "source": []
  },
  {
   "cell_type": "code",
   "execution_count": null,
   "id": "7ed8bd5c-3c3e-46ad-8d71-8c3970b0608a",
   "metadata": {},
   "outputs": [],
   "source": []
  },
  {
   "cell_type": "code",
   "execution_count": null,
   "id": "16f18e4a-5a21-41e2-8f90-ad8cfd34ccd0",
   "metadata": {},
   "outputs": [],
   "source": []
  },
  {
   "cell_type": "code",
   "execution_count": null,
   "id": "44cafe60-21eb-4fac-9c1d-1116a696d01d",
   "metadata": {},
   "outputs": [],
   "source": []
  },
  {
   "cell_type": "code",
   "execution_count": null,
   "id": "2cd346af-860b-4efd-89c8-693eb258318f",
   "metadata": {},
   "outputs": [],
   "source": []
  },
  {
   "cell_type": "code",
   "execution_count": null,
   "id": "14f48b50-2a77-43ae-a1c4-0bf026f15b7e",
   "metadata": {},
   "outputs": [],
   "source": []
  },
  {
   "cell_type": "code",
   "execution_count": null,
   "id": "9b352c65-f7dc-4192-88dc-5c77ab1ca4d4",
   "metadata": {},
   "outputs": [],
   "source": []
  },
  {
   "cell_type": "code",
   "execution_count": null,
   "id": "275b134b-0ad5-4c1d-a78d-02f16f6d7bdd",
   "metadata": {},
   "outputs": [],
   "source": []
  },
  {
   "cell_type": "code",
   "execution_count": null,
   "id": "3d1a6b3e-1e60-4ca2-8355-94fcc7430f80",
   "metadata": {},
   "outputs": [],
   "source": []
  },
  {
   "cell_type": "code",
   "execution_count": null,
   "id": "64b5f3d5-4d48-4275-a444-6e85e6b15113",
   "metadata": {},
   "outputs": [],
   "source": []
  },
  {
   "cell_type": "code",
   "execution_count": null,
   "id": "4ec84a03-cc32-4d93-882a-192bb4171128",
   "metadata": {},
   "outputs": [],
   "source": []
  },
  {
   "cell_type": "code",
   "execution_count": null,
   "id": "7fc130ff-287f-45ad-8ccb-10c23e168b60",
   "metadata": {},
   "outputs": [],
   "source": []
  },
  {
   "cell_type": "code",
   "execution_count": null,
   "id": "f26e2f03-41fd-4261-8223-b0d0e8a42fb2",
   "metadata": {},
   "outputs": [],
   "source": []
  },
  {
   "cell_type": "code",
   "execution_count": null,
   "id": "b141bbe0-0338-4cf7-afd7-576510e8ac37",
   "metadata": {},
   "outputs": [],
   "source": []
  }
 ],
 "metadata": {
  "kernelspec": {
   "display_name": "alCellREADR",
   "language": "python",
   "name": "alcellreadr"
  },
  "language_info": {
   "codemirror_mode": {
    "name": "ipython",
    "version": 3
   },
   "file_extension": ".py",
   "mimetype": "text/x-python",
   "name": "python",
   "nbconvert_exporter": "python",
   "pygments_lexer": "ipython3",
   "version": "3.10.4"
  }
 },
 "nbformat": 4,
 "nbformat_minor": 5
}
